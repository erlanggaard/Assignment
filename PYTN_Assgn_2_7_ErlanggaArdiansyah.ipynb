{
 "cells": [
  {
   "cell_type": "markdown",
   "id": "383fd95c",
   "metadata": {},
   "source": [
    "# Data Understanding"
   ]
  },
  {
   "cell_type": "markdown",
   "id": "b8bbd982",
   "metadata": {},
   "source": [
    "This dataset is a record of every building or building unit (apartment, etc.) sold in the New York City property market over a 12-month period.<br>This dataset contains the location, address, type, sale price, and sale date of building units sold. A reference on the trickier fields:\n",
    "\n",
    "<li>BOROUGH: A digit code for the borough the property is located in; in order these are Manhattan (1), Bronx (2), Brooklyn (3), Queens (4), and Staten Island (5).\n",
    "<li>BLOCK; LOT: The combination of borough, block, and lot forms a unique key for property in New York City. Commonly called a BBL.\n",
    "<li>BUILDING CLASS AT PRESENT and BUILDING CLASS AT TIME OF SALE: The type of building at various points in time. See the glossary linked to below.\n",
    "    <br><br>\n",
    "Note that because this is a financial transaction dataset, there are some points that need to be kept in mind:\n",
    "\n",
    "<li>Many sales occur with a nonsensically small dollar amount: $0 most commonly. These sales are actually transfers of deeds between parties: for example, parents transferring ownership to their home to a child after moving out for retirement.\n",
    "<br>\n",
    "<li>This dataset uses the financial definition of a building/building unit, for tax purposes. In case a single entity owns the building in question, a sale covers the value of the entire building. In case a building is owned piecemeal by its residents (a condominium), a sale refers to a single apartment (or group of apartments) owned by some individual.\n"
   ]
  },
  {
   "cell_type": "markdown",
   "id": "fbb11d79",
   "metadata": {},
   "source": [
    "## Import Library"
   ]
  },
  {
   "cell_type": "code",
   "execution_count": 1,
   "id": "242200e9",
   "metadata": {},
   "outputs": [],
   "source": [
    "import pandas as pd\n",
    "import numpy as np\n",
    "import matplotlib.pyplot as plt\n",
    "%matplotlib inline\n",
    "\n",
    "import seaborn as sns\n",
    "import math\n",
    "import scipy.stats\n",
    "from scipy.stats import t\n",
    "from scipy.stats import chi2_contingency\n",
    "from scipy.stats import ttest_ind\n",
    "import datetime"
   ]
  },
  {
   "cell_type": "markdown",
   "id": "e6c5c137",
   "metadata": {},
   "source": [
    "## Load Dataset"
   ]
  },
  {
   "cell_type": "code",
   "execution_count": 2,
   "id": "eabc2d7a",
   "metadata": {},
   "outputs": [],
   "source": [
    "df_sales = pd.read_csv('../dataset/nyc_rolling_sales.csv')\n"
   ]
  },
  {
   "cell_type": "code",
   "execution_count": 3,
   "id": "df4b1d4d",
   "metadata": {},
   "outputs": [],
   "source": [
    "pd.set_option('display.max_columns', None) # Untuk menampilkan semua kolom"
   ]
  },
  {
   "cell_type": "code",
   "execution_count": 4,
   "id": "503d3b02",
   "metadata": {},
   "outputs": [
    {
     "data": {
      "text/html": [
       "<div>\n",
       "<style scoped>\n",
       "    .dataframe tbody tr th:only-of-type {\n",
       "        vertical-align: middle;\n",
       "    }\n",
       "\n",
       "    .dataframe tbody tr th {\n",
       "        vertical-align: top;\n",
       "    }\n",
       "\n",
       "    .dataframe thead th {\n",
       "        text-align: right;\n",
       "    }\n",
       "</style>\n",
       "<table border=\"1\" class=\"dataframe\">\n",
       "  <thead>\n",
       "    <tr style=\"text-align: right;\">\n",
       "      <th></th>\n",
       "      <th>Unnamed: 0</th>\n",
       "      <th>BOROUGH</th>\n",
       "      <th>NEIGHBORHOOD</th>\n",
       "      <th>BUILDING CLASS CATEGORY</th>\n",
       "      <th>TAX CLASS AT PRESENT</th>\n",
       "      <th>BLOCK</th>\n",
       "      <th>LOT</th>\n",
       "      <th>EASE-MENT</th>\n",
       "      <th>BUILDING CLASS AT PRESENT</th>\n",
       "      <th>ADDRESS</th>\n",
       "      <th>APARTMENT NUMBER</th>\n",
       "      <th>ZIP CODE</th>\n",
       "      <th>RESIDENTIAL UNITS</th>\n",
       "      <th>COMMERCIAL UNITS</th>\n",
       "      <th>TOTAL UNITS</th>\n",
       "      <th>LAND SQUARE FEET</th>\n",
       "      <th>GROSS SQUARE FEET</th>\n",
       "      <th>YEAR BUILT</th>\n",
       "      <th>TAX CLASS AT TIME OF SALE</th>\n",
       "      <th>BUILDING CLASS AT TIME OF SALE</th>\n",
       "      <th>SALE PRICE</th>\n",
       "      <th>SALE DATE</th>\n",
       "    </tr>\n",
       "  </thead>\n",
       "  <tbody>\n",
       "    <tr>\n",
       "      <th>0</th>\n",
       "      <td>4</td>\n",
       "      <td>1</td>\n",
       "      <td>ALPHABET CITY</td>\n",
       "      <td>07 RENTALS - WALKUP APARTMENTS</td>\n",
       "      <td>2A</td>\n",
       "      <td>392</td>\n",
       "      <td>6</td>\n",
       "      <td></td>\n",
       "      <td>C2</td>\n",
       "      <td>153 AVENUE B</td>\n",
       "      <td></td>\n",
       "      <td>10009</td>\n",
       "      <td>5</td>\n",
       "      <td>0</td>\n",
       "      <td>5</td>\n",
       "      <td>1633</td>\n",
       "      <td>6440</td>\n",
       "      <td>1900</td>\n",
       "      <td>2</td>\n",
       "      <td>C2</td>\n",
       "      <td>6625000</td>\n",
       "      <td>2017-07-19 00:00:00</td>\n",
       "    </tr>\n",
       "    <tr>\n",
       "      <th>1</th>\n",
       "      <td>5</td>\n",
       "      <td>1</td>\n",
       "      <td>ALPHABET CITY</td>\n",
       "      <td>07 RENTALS - WALKUP APARTMENTS</td>\n",
       "      <td>2</td>\n",
       "      <td>399</td>\n",
       "      <td>26</td>\n",
       "      <td></td>\n",
       "      <td>C7</td>\n",
       "      <td>234 EAST 4TH   STREET</td>\n",
       "      <td></td>\n",
       "      <td>10009</td>\n",
       "      <td>28</td>\n",
       "      <td>3</td>\n",
       "      <td>31</td>\n",
       "      <td>4616</td>\n",
       "      <td>18690</td>\n",
       "      <td>1900</td>\n",
       "      <td>2</td>\n",
       "      <td>C7</td>\n",
       "      <td>-</td>\n",
       "      <td>2016-12-14 00:00:00</td>\n",
       "    </tr>\n",
       "    <tr>\n",
       "      <th>2</th>\n",
       "      <td>6</td>\n",
       "      <td>1</td>\n",
       "      <td>ALPHABET CITY</td>\n",
       "      <td>07 RENTALS - WALKUP APARTMENTS</td>\n",
       "      <td>2</td>\n",
       "      <td>399</td>\n",
       "      <td>39</td>\n",
       "      <td></td>\n",
       "      <td>C7</td>\n",
       "      <td>197 EAST 3RD   STREET</td>\n",
       "      <td></td>\n",
       "      <td>10009</td>\n",
       "      <td>16</td>\n",
       "      <td>1</td>\n",
       "      <td>17</td>\n",
       "      <td>2212</td>\n",
       "      <td>7803</td>\n",
       "      <td>1900</td>\n",
       "      <td>2</td>\n",
       "      <td>C7</td>\n",
       "      <td>-</td>\n",
       "      <td>2016-12-09 00:00:00</td>\n",
       "    </tr>\n",
       "    <tr>\n",
       "      <th>3</th>\n",
       "      <td>7</td>\n",
       "      <td>1</td>\n",
       "      <td>ALPHABET CITY</td>\n",
       "      <td>07 RENTALS - WALKUP APARTMENTS</td>\n",
       "      <td>2B</td>\n",
       "      <td>402</td>\n",
       "      <td>21</td>\n",
       "      <td></td>\n",
       "      <td>C4</td>\n",
       "      <td>154 EAST 7TH STREET</td>\n",
       "      <td></td>\n",
       "      <td>10009</td>\n",
       "      <td>10</td>\n",
       "      <td>0</td>\n",
       "      <td>10</td>\n",
       "      <td>2272</td>\n",
       "      <td>6794</td>\n",
       "      <td>1913</td>\n",
       "      <td>2</td>\n",
       "      <td>C4</td>\n",
       "      <td>3936272</td>\n",
       "      <td>2016-09-23 00:00:00</td>\n",
       "    </tr>\n",
       "    <tr>\n",
       "      <th>4</th>\n",
       "      <td>8</td>\n",
       "      <td>1</td>\n",
       "      <td>ALPHABET CITY</td>\n",
       "      <td>07 RENTALS - WALKUP APARTMENTS</td>\n",
       "      <td>2A</td>\n",
       "      <td>404</td>\n",
       "      <td>55</td>\n",
       "      <td></td>\n",
       "      <td>C2</td>\n",
       "      <td>301 EAST 10TH   STREET</td>\n",
       "      <td></td>\n",
       "      <td>10009</td>\n",
       "      <td>6</td>\n",
       "      <td>0</td>\n",
       "      <td>6</td>\n",
       "      <td>2369</td>\n",
       "      <td>4615</td>\n",
       "      <td>1900</td>\n",
       "      <td>2</td>\n",
       "      <td>C2</td>\n",
       "      <td>8000000</td>\n",
       "      <td>2016-11-17 00:00:00</td>\n",
       "    </tr>\n",
       "  </tbody>\n",
       "</table>\n",
       "</div>"
      ],
      "text/plain": [
       "   Unnamed: 0  BOROUGH   NEIGHBORHOOD  \\\n",
       "0           4        1  ALPHABET CITY   \n",
       "1           5        1  ALPHABET CITY   \n",
       "2           6        1  ALPHABET CITY   \n",
       "3           7        1  ALPHABET CITY   \n",
       "4           8        1  ALPHABET CITY   \n",
       "\n",
       "                       BUILDING CLASS CATEGORY TAX CLASS AT PRESENT  BLOCK  \\\n",
       "0  07 RENTALS - WALKUP APARTMENTS                                2A    392   \n",
       "1  07 RENTALS - WALKUP APARTMENTS                                 2    399   \n",
       "2  07 RENTALS - WALKUP APARTMENTS                                 2    399   \n",
       "3  07 RENTALS - WALKUP APARTMENTS                                2B    402   \n",
       "4  07 RENTALS - WALKUP APARTMENTS                                2A    404   \n",
       "\n",
       "   LOT EASE-MENT BUILDING CLASS AT PRESENT                 ADDRESS  \\\n",
       "0    6                                  C2            153 AVENUE B   \n",
       "1   26                                  C7   234 EAST 4TH   STREET   \n",
       "2   39                                  C7   197 EAST 3RD   STREET   \n",
       "3   21                                  C4     154 EAST 7TH STREET   \n",
       "4   55                                  C2  301 EAST 10TH   STREET   \n",
       "\n",
       "  APARTMENT NUMBER  ZIP CODE  RESIDENTIAL UNITS  COMMERCIAL UNITS  \\\n",
       "0                      10009                  5                 0   \n",
       "1                      10009                 28                 3   \n",
       "2                      10009                 16                 1   \n",
       "3                      10009                 10                 0   \n",
       "4                      10009                  6                 0   \n",
       "\n",
       "   TOTAL UNITS LAND SQUARE FEET GROSS SQUARE FEET  YEAR BUILT  \\\n",
       "0            5             1633              6440        1900   \n",
       "1           31             4616             18690        1900   \n",
       "2           17             2212              7803        1900   \n",
       "3           10             2272              6794        1913   \n",
       "4            6             2369              4615        1900   \n",
       "\n",
       "   TAX CLASS AT TIME OF SALE BUILDING CLASS AT TIME OF SALE SALE PRICE  \\\n",
       "0                          2                             C2    6625000   \n",
       "1                          2                             C7        -     \n",
       "2                          2                             C7        -     \n",
       "3                          2                             C4    3936272   \n",
       "4                          2                             C2    8000000   \n",
       "\n",
       "             SALE DATE  \n",
       "0  2017-07-19 00:00:00  \n",
       "1  2016-12-14 00:00:00  \n",
       "2  2016-12-09 00:00:00  \n",
       "3  2016-09-23 00:00:00  \n",
       "4  2016-11-17 00:00:00  "
      ]
     },
     "execution_count": 4,
     "metadata": {},
     "output_type": "execute_result"
    }
   ],
   "source": [
    "df_sales.head()"
   ]
  },
  {
   "cell_type": "code",
   "execution_count": 5,
   "id": "33bf82b5",
   "metadata": {},
   "outputs": [
    {
     "data": {
      "text/html": [
       "<div>\n",
       "<style scoped>\n",
       "    .dataframe tbody tr th:only-of-type {\n",
       "        vertical-align: middle;\n",
       "    }\n",
       "\n",
       "    .dataframe tbody tr th {\n",
       "        vertical-align: top;\n",
       "    }\n",
       "\n",
       "    .dataframe thead th {\n",
       "        text-align: right;\n",
       "    }\n",
       "</style>\n",
       "<table border=\"1\" class=\"dataframe\">\n",
       "  <thead>\n",
       "    <tr style=\"text-align: right;\">\n",
       "      <th></th>\n",
       "      <th>Unnamed: 0</th>\n",
       "      <th>BOROUGH</th>\n",
       "      <th>NEIGHBORHOOD</th>\n",
       "      <th>BUILDING CLASS CATEGORY</th>\n",
       "      <th>TAX CLASS AT PRESENT</th>\n",
       "      <th>BLOCK</th>\n",
       "      <th>LOT</th>\n",
       "      <th>EASE-MENT</th>\n",
       "      <th>BUILDING CLASS AT PRESENT</th>\n",
       "      <th>ADDRESS</th>\n",
       "      <th>APARTMENT NUMBER</th>\n",
       "      <th>ZIP CODE</th>\n",
       "      <th>RESIDENTIAL UNITS</th>\n",
       "      <th>COMMERCIAL UNITS</th>\n",
       "      <th>TOTAL UNITS</th>\n",
       "      <th>LAND SQUARE FEET</th>\n",
       "      <th>GROSS SQUARE FEET</th>\n",
       "      <th>YEAR BUILT</th>\n",
       "      <th>TAX CLASS AT TIME OF SALE</th>\n",
       "      <th>BUILDING CLASS AT TIME OF SALE</th>\n",
       "      <th>SALE PRICE</th>\n",
       "      <th>SALE DATE</th>\n",
       "    </tr>\n",
       "  </thead>\n",
       "  <tbody>\n",
       "    <tr>\n",
       "      <th>84543</th>\n",
       "      <td>8409</td>\n",
       "      <td>5</td>\n",
       "      <td>WOODROW</td>\n",
       "      <td>02 TWO FAMILY DWELLINGS</td>\n",
       "      <td>1</td>\n",
       "      <td>7349</td>\n",
       "      <td>34</td>\n",
       "      <td></td>\n",
       "      <td>B9</td>\n",
       "      <td>37 QUAIL LANE</td>\n",
       "      <td></td>\n",
       "      <td>10309</td>\n",
       "      <td>2</td>\n",
       "      <td>0</td>\n",
       "      <td>2</td>\n",
       "      <td>2400</td>\n",
       "      <td>2575</td>\n",
       "      <td>1998</td>\n",
       "      <td>1</td>\n",
       "      <td>B9</td>\n",
       "      <td>450000</td>\n",
       "      <td>2016-11-28 00:00:00</td>\n",
       "    </tr>\n",
       "    <tr>\n",
       "      <th>84544</th>\n",
       "      <td>8410</td>\n",
       "      <td>5</td>\n",
       "      <td>WOODROW</td>\n",
       "      <td>02 TWO FAMILY DWELLINGS</td>\n",
       "      <td>1</td>\n",
       "      <td>7349</td>\n",
       "      <td>78</td>\n",
       "      <td></td>\n",
       "      <td>B9</td>\n",
       "      <td>32 PHEASANT LANE</td>\n",
       "      <td></td>\n",
       "      <td>10309</td>\n",
       "      <td>2</td>\n",
       "      <td>0</td>\n",
       "      <td>2</td>\n",
       "      <td>2498</td>\n",
       "      <td>2377</td>\n",
       "      <td>1998</td>\n",
       "      <td>1</td>\n",
       "      <td>B9</td>\n",
       "      <td>550000</td>\n",
       "      <td>2017-04-21 00:00:00</td>\n",
       "    </tr>\n",
       "    <tr>\n",
       "      <th>84545</th>\n",
       "      <td>8411</td>\n",
       "      <td>5</td>\n",
       "      <td>WOODROW</td>\n",
       "      <td>02 TWO FAMILY DWELLINGS</td>\n",
       "      <td>1</td>\n",
       "      <td>7351</td>\n",
       "      <td>60</td>\n",
       "      <td></td>\n",
       "      <td>B2</td>\n",
       "      <td>49 PITNEY AVENUE</td>\n",
       "      <td></td>\n",
       "      <td>10309</td>\n",
       "      <td>2</td>\n",
       "      <td>0</td>\n",
       "      <td>2</td>\n",
       "      <td>4000</td>\n",
       "      <td>1496</td>\n",
       "      <td>1925</td>\n",
       "      <td>1</td>\n",
       "      <td>B2</td>\n",
       "      <td>460000</td>\n",
       "      <td>2017-07-05 00:00:00</td>\n",
       "    </tr>\n",
       "    <tr>\n",
       "      <th>84546</th>\n",
       "      <td>8412</td>\n",
       "      <td>5</td>\n",
       "      <td>WOODROW</td>\n",
       "      <td>22 STORE BUILDINGS</td>\n",
       "      <td>4</td>\n",
       "      <td>7100</td>\n",
       "      <td>28</td>\n",
       "      <td></td>\n",
       "      <td>K6</td>\n",
       "      <td>2730 ARTHUR KILL ROAD</td>\n",
       "      <td></td>\n",
       "      <td>10309</td>\n",
       "      <td>0</td>\n",
       "      <td>7</td>\n",
       "      <td>7</td>\n",
       "      <td>208033</td>\n",
       "      <td>64117</td>\n",
       "      <td>2001</td>\n",
       "      <td>4</td>\n",
       "      <td>K6</td>\n",
       "      <td>11693337</td>\n",
       "      <td>2016-12-21 00:00:00</td>\n",
       "    </tr>\n",
       "    <tr>\n",
       "      <th>84547</th>\n",
       "      <td>8413</td>\n",
       "      <td>5</td>\n",
       "      <td>WOODROW</td>\n",
       "      <td>35 INDOOR PUBLIC AND CULTURAL FACILITIES</td>\n",
       "      <td>4</td>\n",
       "      <td>7105</td>\n",
       "      <td>679</td>\n",
       "      <td></td>\n",
       "      <td>P9</td>\n",
       "      <td>155 CLAY PIT ROAD</td>\n",
       "      <td></td>\n",
       "      <td>10309</td>\n",
       "      <td>0</td>\n",
       "      <td>1</td>\n",
       "      <td>1</td>\n",
       "      <td>10796</td>\n",
       "      <td>2400</td>\n",
       "      <td>2006</td>\n",
       "      <td>4</td>\n",
       "      <td>P9</td>\n",
       "      <td>69300</td>\n",
       "      <td>2016-10-27 00:00:00</td>\n",
       "    </tr>\n",
       "  </tbody>\n",
       "</table>\n",
       "</div>"
      ],
      "text/plain": [
       "       Unnamed: 0  BOROUGH NEIGHBORHOOD  \\\n",
       "84543        8409        5      WOODROW   \n",
       "84544        8410        5      WOODROW   \n",
       "84545        8411        5      WOODROW   \n",
       "84546        8412        5      WOODROW   \n",
       "84547        8413        5      WOODROW   \n",
       "\n",
       "                           BUILDING CLASS CATEGORY TAX CLASS AT PRESENT  \\\n",
       "84543  02 TWO FAMILY DWELLINGS                                        1   \n",
       "84544  02 TWO FAMILY DWELLINGS                                        1   \n",
       "84545  02 TWO FAMILY DWELLINGS                                        1   \n",
       "84546  22 STORE BUILDINGS                                             4   \n",
       "84547  35 INDOOR PUBLIC AND CULTURAL FACILITIES                       4   \n",
       "\n",
       "       BLOCK  LOT EASE-MENT BUILDING CLASS AT PRESENT                ADDRESS  \\\n",
       "84543   7349   34                                  B9          37 QUAIL LANE   \n",
       "84544   7349   78                                  B9       32 PHEASANT LANE   \n",
       "84545   7351   60                                  B2       49 PITNEY AVENUE   \n",
       "84546   7100   28                                  K6  2730 ARTHUR KILL ROAD   \n",
       "84547   7105  679                                  P9      155 CLAY PIT ROAD   \n",
       "\n",
       "      APARTMENT NUMBER  ZIP CODE  RESIDENTIAL UNITS  COMMERCIAL UNITS  \\\n",
       "84543                      10309                  2                 0   \n",
       "84544                      10309                  2                 0   \n",
       "84545                      10309                  2                 0   \n",
       "84546                      10309                  0                 7   \n",
       "84547                      10309                  0                 1   \n",
       "\n",
       "       TOTAL UNITS LAND SQUARE FEET GROSS SQUARE FEET  YEAR BUILT  \\\n",
       "84543            2             2400              2575        1998   \n",
       "84544            2             2498              2377        1998   \n",
       "84545            2             4000              1496        1925   \n",
       "84546            7           208033             64117        2001   \n",
       "84547            1            10796              2400        2006   \n",
       "\n",
       "       TAX CLASS AT TIME OF SALE BUILDING CLASS AT TIME OF SALE SALE PRICE  \\\n",
       "84543                          1                             B9     450000   \n",
       "84544                          1                             B9     550000   \n",
       "84545                          1                             B2     460000   \n",
       "84546                          4                             K6   11693337   \n",
       "84547                          4                             P9      69300   \n",
       "\n",
       "                 SALE DATE  \n",
       "84543  2016-11-28 00:00:00  \n",
       "84544  2017-04-21 00:00:00  \n",
       "84545  2017-07-05 00:00:00  \n",
       "84546  2016-12-21 00:00:00  \n",
       "84547  2016-10-27 00:00:00  "
      ]
     },
     "execution_count": 5,
     "metadata": {},
     "output_type": "execute_result"
    }
   ],
   "source": [
    "df_sales.tail()"
   ]
  },
  {
   "cell_type": "code",
   "execution_count": 6,
   "id": "9b3f7bca",
   "metadata": {},
   "outputs": [
    {
     "data": {
      "text/plain": [
       "(84548, 22)"
      ]
     },
     "execution_count": 6,
     "metadata": {},
     "output_type": "execute_result"
    }
   ],
   "source": [
    "# Melihat dimensi dataset\n",
    "df_sales.shape"
   ]
  },
  {
   "cell_type": "code",
   "execution_count": 7,
   "id": "55fc23f2",
   "metadata": {},
   "outputs": [
    {
     "name": "stdout",
     "output_type": "stream",
     "text": [
      "<class 'pandas.core.frame.DataFrame'>\n",
      "RangeIndex: 84548 entries, 0 to 84547\n",
      "Data columns (total 22 columns):\n",
      " #   Column                          Non-Null Count  Dtype \n",
      "---  ------                          --------------  ----- \n",
      " 0   Unnamed: 0                      84548 non-null  int64 \n",
      " 1   BOROUGH                         84548 non-null  int64 \n",
      " 2   NEIGHBORHOOD                    84548 non-null  object\n",
      " 3   BUILDING CLASS CATEGORY         84548 non-null  object\n",
      " 4   TAX CLASS AT PRESENT            84548 non-null  object\n",
      " 5   BLOCK                           84548 non-null  int64 \n",
      " 6   LOT                             84548 non-null  int64 \n",
      " 7   EASE-MENT                       84548 non-null  object\n",
      " 8   BUILDING CLASS AT PRESENT       84548 non-null  object\n",
      " 9   ADDRESS                         84548 non-null  object\n",
      " 10  APARTMENT NUMBER                84548 non-null  object\n",
      " 11  ZIP CODE                        84548 non-null  int64 \n",
      " 12  RESIDENTIAL UNITS               84548 non-null  int64 \n",
      " 13  COMMERCIAL UNITS                84548 non-null  int64 \n",
      " 14  TOTAL UNITS                     84548 non-null  int64 \n",
      " 15  LAND SQUARE FEET                84548 non-null  object\n",
      " 16  GROSS SQUARE FEET               84548 non-null  object\n",
      " 17  YEAR BUILT                      84548 non-null  int64 \n",
      " 18  TAX CLASS AT TIME OF SALE       84548 non-null  int64 \n",
      " 19  BUILDING CLASS AT TIME OF SALE  84548 non-null  object\n",
      " 20  SALE PRICE                      84548 non-null  object\n",
      " 21  SALE DATE                       84548 non-null  object\n",
      "dtypes: int64(10), object(12)\n",
      "memory usage: 14.2+ MB\n"
     ]
    }
   ],
   "source": [
    "# Melihat infromasi tipe-tipe data tiap kolom pada dataset\n",
    "df_sales.info()"
   ]
  },
  {
   "cell_type": "markdown",
   "id": "f8900f9f",
   "metadata": {},
   "source": [
    "Berdasarkan output dari dimensi dan informasi dataset, diketahui bahwa terdapat 84548 baris atau observasi dan 22 kolom."
   ]
  },
  {
   "cell_type": "markdown",
   "id": "2e35a0dd",
   "metadata": {},
   "source": [
    "## Data Preprocessing and Cleaning"
   ]
  },
  {
   "cell_type": "markdown",
   "id": "e66186a9",
   "metadata": {},
   "source": [
    "### Drop kolom yang tidak dibutuhkan"
   ]
  },
  {
   "cell_type": "code",
   "execution_count": 8,
   "id": "24d26590",
   "metadata": {},
   "outputs": [],
   "source": [
    "df_sales.drop(['Unnamed: 0', 'BLOCK', 'LOT', 'EASE-MENT', 'APARTMENT NUMBER', 'ADDRESS', 'ZIP CODE'], axis=1, inplace=True)"
   ]
  },
  {
   "cell_type": "markdown",
   "id": "406c3c95",
   "metadata": {},
   "source": [
    "### Mengganti tipe data beberapa kolom menjadi categorical"
   ]
  },
  {
   "cell_type": "code",
   "execution_count": 9,
   "id": "a194d7c8",
   "metadata": {},
   "outputs": [],
   "source": [
    "categoricals = ['BOROUGH', 'NEIGHBORHOOD', 'BUILDING CLASS CATEGORY', 'TAX CLASS AT PRESENT', \n",
    "                'YEAR BUILT', 'TAX CLASS AT TIME OF SALE', 'BUILDING CLASS AT TIME OF SALE',\n",
    "                'BUILDING CLASS AT PRESENT']\n",
    "for col in categoricals:\n",
    "    df_sales[col] = df_sales[col].astype('category')"
   ]
  },
  {
   "cell_type": "markdown",
   "id": "202d6b7e",
   "metadata": {},
   "source": [
    "### Mengubah tipe data beberapa kolom menjadi numerical"
   ]
  },
  {
   "cell_type": "code",
   "execution_count": 10,
   "id": "64f9ae0b",
   "metadata": {},
   "outputs": [],
   "source": [
    "num = ['LAND SQUARE FEET',\n",
    "       'GROSS SQUARE FEET',\n",
    "       'SALE PRICE'\n",
    "      ]\n",
    "\n",
    "for col in num:\n",
    "    df_sales[col] = pd.to_numeric(df_sales[col], errors='coerce')"
   ]
  },
  {
   "cell_type": "markdown",
   "id": "e610f703",
   "metadata": {},
   "source": [
    "### Membuat kolom baru yang berisi keterangan tanggal, bulan dan tahun"
   ]
  },
  {
   "cell_type": "code",
   "execution_count": 11,
   "id": "dbf1924e",
   "metadata": {},
   "outputs": [],
   "source": [
    "df_sales['SALE DATE'] = pd.to_datetime(df_sales['SALE DATE'])\n",
    "df_sales['SALE MONTH'] = df_sales['SALE DATE'].dt.month_name\n",
    "df_sales['SALE YEAR'] = df_sales['SALE DATE'].dt.year"
   ]
  },
  {
   "cell_type": "markdown",
   "id": "ba34b7c2",
   "metadata": {},
   "source": [
    "### Identify Missing Value"
   ]
  },
  {
   "cell_type": "code",
   "execution_count": 12,
   "id": "043c393e",
   "metadata": {},
   "outputs": [
    {
     "data": {
      "text/html": [
       "<div>\n",
       "<style scoped>\n",
       "    .dataframe tbody tr th:only-of-type {\n",
       "        vertical-align: middle;\n",
       "    }\n",
       "\n",
       "    .dataframe tbody tr th {\n",
       "        vertical-align: top;\n",
       "    }\n",
       "\n",
       "    .dataframe thead th {\n",
       "        text-align: right;\n",
       "    }\n",
       "</style>\n",
       "<table border=\"1\" class=\"dataframe\">\n",
       "  <thead>\n",
       "    <tr style=\"text-align: right;\">\n",
       "      <th></th>\n",
       "      <th>missing_value_percentage</th>\n",
       "    </tr>\n",
       "  </thead>\n",
       "  <tbody>\n",
       "    <tr>\n",
       "      <th>BOROUGH</th>\n",
       "      <td>0.00</td>\n",
       "    </tr>\n",
       "    <tr>\n",
       "      <th>NEIGHBORHOOD</th>\n",
       "      <td>0.00</td>\n",
       "    </tr>\n",
       "    <tr>\n",
       "      <th>BUILDING CLASS CATEGORY</th>\n",
       "      <td>0.00</td>\n",
       "    </tr>\n",
       "    <tr>\n",
       "      <th>TAX CLASS AT PRESENT</th>\n",
       "      <td>0.00</td>\n",
       "    </tr>\n",
       "    <tr>\n",
       "      <th>BUILDING CLASS AT PRESENT</th>\n",
       "      <td>0.00</td>\n",
       "    </tr>\n",
       "    <tr>\n",
       "      <th>RESIDENTIAL UNITS</th>\n",
       "      <td>0.00</td>\n",
       "    </tr>\n",
       "    <tr>\n",
       "      <th>COMMERCIAL UNITS</th>\n",
       "      <td>0.00</td>\n",
       "    </tr>\n",
       "    <tr>\n",
       "      <th>TOTAL UNITS</th>\n",
       "      <td>0.00</td>\n",
       "    </tr>\n",
       "    <tr>\n",
       "      <th>LAND SQUARE FEET</th>\n",
       "      <td>31.05</td>\n",
       "    </tr>\n",
       "    <tr>\n",
       "      <th>GROSS SQUARE FEET</th>\n",
       "      <td>32.66</td>\n",
       "    </tr>\n",
       "    <tr>\n",
       "      <th>YEAR BUILT</th>\n",
       "      <td>0.00</td>\n",
       "    </tr>\n",
       "    <tr>\n",
       "      <th>TAX CLASS AT TIME OF SALE</th>\n",
       "      <td>0.00</td>\n",
       "    </tr>\n",
       "    <tr>\n",
       "      <th>BUILDING CLASS AT TIME OF SALE</th>\n",
       "      <td>0.00</td>\n",
       "    </tr>\n",
       "    <tr>\n",
       "      <th>SALE PRICE</th>\n",
       "      <td>17.22</td>\n",
       "    </tr>\n",
       "    <tr>\n",
       "      <th>SALE DATE</th>\n",
       "      <td>0.00</td>\n",
       "    </tr>\n",
       "    <tr>\n",
       "      <th>SALE MONTH</th>\n",
       "      <td>0.00</td>\n",
       "    </tr>\n",
       "    <tr>\n",
       "      <th>SALE YEAR</th>\n",
       "      <td>0.00</td>\n",
       "    </tr>\n",
       "  </tbody>\n",
       "</table>\n",
       "</div>"
      ],
      "text/plain": [
       "                                missing_value_percentage\n",
       "BOROUGH                                             0.00\n",
       "NEIGHBORHOOD                                        0.00\n",
       "BUILDING CLASS CATEGORY                             0.00\n",
       "TAX CLASS AT PRESENT                                0.00\n",
       "BUILDING CLASS AT PRESENT                           0.00\n",
       "RESIDENTIAL UNITS                                   0.00\n",
       "COMMERCIAL UNITS                                    0.00\n",
       "TOTAL UNITS                                         0.00\n",
       "LAND SQUARE FEET                                   31.05\n",
       "GROSS SQUARE FEET                                  32.66\n",
       "YEAR BUILT                                          0.00\n",
       "TAX CLASS AT TIME OF SALE                           0.00\n",
       "BUILDING CLASS AT TIME OF SALE                      0.00\n",
       "SALE PRICE                                         17.22\n",
       "SALE DATE                                           0.00\n",
       "SALE MONTH                                          0.00\n",
       "SALE YEAR                                           0.00"
      ]
     },
     "execution_count": 12,
     "metadata": {},
     "output_type": "execute_result"
    }
   ],
   "source": [
    "df_nan = round((df_sales.isnull().sum())/len(df_sales)*100,2)\n",
    "df_nan = pd.DataFrame(df_nan)\n",
    "df_nan = df_nan.rename(columns={0:'missing_value_percentage'})\n",
    "df_nan"
   ]
  },
  {
   "cell_type": "markdown",
   "id": "2de7c048",
   "metadata": {},
   "source": [
    "Berdasarkan tabel *missing values* di atas, diketahui bahwa terdapat 31% *missing values* pada kolom `LAND SQUARE FEET`, 33% *missing values* pada kolom `GROSS SQUARE FEET`, dan 17% *missing values* pada kolom `SALE PRICE`. Sebelumnya telah diketahui bahwa dataset yang digunakan merupakan *financial dataset* di mana terdapat keterangan jika harga properti yang terjual senilai $0, maka ada beberapa kemungkinan bahwa properti tersebut merupakan *transfering ownership*. Selain itu, kolom `LAND SQUARE FEET` dan `GROSS SQUARE FEET` yang mengandung *missing values* dianggap data yang tidak valid, sehingga semua *missing values* akan didrop atau dihilangkan dari dataset."
   ]
  },
  {
   "cell_type": "code",
   "execution_count": 13,
   "id": "aefc2a72",
   "metadata": {},
   "outputs": [],
   "source": [
    "df_sales = df_sales.dropna()"
   ]
  },
  {
   "cell_type": "code",
   "execution_count": 14,
   "id": "92ad125a",
   "metadata": {},
   "outputs": [
    {
     "data": {
      "text/plain": [
       "BOROUGH                           False\n",
       "NEIGHBORHOOD                      False\n",
       "BUILDING CLASS CATEGORY           False\n",
       "TAX CLASS AT PRESENT              False\n",
       "BUILDING CLASS AT PRESENT         False\n",
       "RESIDENTIAL UNITS                 False\n",
       "COMMERCIAL UNITS                  False\n",
       "TOTAL UNITS                       False\n",
       "LAND SQUARE FEET                  False\n",
       "GROSS SQUARE FEET                 False\n",
       "YEAR BUILT                        False\n",
       "TAX CLASS AT TIME OF SALE         False\n",
       "BUILDING CLASS AT TIME OF SALE    False\n",
       "SALE PRICE                        False\n",
       "SALE DATE                         False\n",
       "SALE MONTH                        False\n",
       "SALE YEAR                         False\n",
       "dtype: bool"
      ]
     },
     "execution_count": 14,
     "metadata": {},
     "output_type": "execute_result"
    }
   ],
   "source": [
    "# Memeriksa kembali apakah masih terdapat missing value atau tidak\n",
    "df_sales.isnull().any()"
   ]
  },
  {
   "cell_type": "markdown",
   "id": "7e9c80eb",
   "metadata": {},
   "source": [
    "Berdasarkan output diatas menghasilkan nilai *False* yang artinya tidak ada *missing value*."
   ]
  },
  {
   "cell_type": "markdown",
   "id": "9d0a3e96",
   "metadata": {},
   "source": [
    "### Identify Duplicated Value"
   ]
  },
  {
   "cell_type": "code",
   "execution_count": 15,
   "id": "342a0184",
   "metadata": {},
   "outputs": [
    {
     "data": {
      "text/plain": [
       "959"
      ]
     },
     "execution_count": 15,
     "metadata": {},
     "output_type": "execute_result"
    }
   ],
   "source": [
    "df_sales.duplicated().sum()"
   ]
  },
  {
   "cell_type": "markdown",
   "id": "2a35912c",
   "metadata": {},
   "source": [
    "Berdasarkan output diatas diketahui terdapat 959 baris duplikasi, sehingga baris tersebut harus di drop atau dihilangkan dari dataset"
   ]
  },
  {
   "cell_type": "code",
   "execution_count": 16,
   "id": "f8388b42",
   "metadata": {},
   "outputs": [],
   "source": [
    "df_sales = df_sales.drop_duplicates(df_sales.columns, keep='last')"
   ]
  },
  {
   "cell_type": "code",
   "execution_count": 17,
   "id": "4b290a3c",
   "metadata": {},
   "outputs": [
    {
     "data": {
      "text/plain": [
       "0"
      ]
     },
     "execution_count": 17,
     "metadata": {},
     "output_type": "execute_result"
    }
   ],
   "source": [
    "df_sales.duplicated().sum()"
   ]
  },
  {
   "cell_type": "markdown",
   "id": "b65c0a81",
   "metadata": {},
   "source": [
    "### Mapping pada kolom BOROUGH"
   ]
  },
  {
   "cell_type": "markdown",
   "id": "b6291da4",
   "metadata": {},
   "source": [
    "Karena kolom `BOROUGH` pada dataset masih berupa kategori angka, maka akan diubah masing-masing angka tersebut berdasarkan nama borough pada angka tersebut."
   ]
  },
  {
   "cell_type": "code",
   "execution_count": 18,
   "id": "57587cc0",
   "metadata": {},
   "outputs": [
    {
     "data": {
      "text/html": [
       "<div>\n",
       "<style scoped>\n",
       "    .dataframe tbody tr th:only-of-type {\n",
       "        vertical-align: middle;\n",
       "    }\n",
       "\n",
       "    .dataframe tbody tr th {\n",
       "        vertical-align: top;\n",
       "    }\n",
       "\n",
       "    .dataframe thead th {\n",
       "        text-align: right;\n",
       "    }\n",
       "</style>\n",
       "<table border=\"1\" class=\"dataframe\">\n",
       "  <thead>\n",
       "    <tr style=\"text-align: right;\">\n",
       "      <th></th>\n",
       "      <th>BOROUGH</th>\n",
       "      <th>NEIGHBORHOOD</th>\n",
       "      <th>BUILDING CLASS CATEGORY</th>\n",
       "      <th>TAX CLASS AT PRESENT</th>\n",
       "      <th>BUILDING CLASS AT PRESENT</th>\n",
       "      <th>RESIDENTIAL UNITS</th>\n",
       "      <th>COMMERCIAL UNITS</th>\n",
       "      <th>TOTAL UNITS</th>\n",
       "      <th>LAND SQUARE FEET</th>\n",
       "      <th>GROSS SQUARE FEET</th>\n",
       "      <th>YEAR BUILT</th>\n",
       "      <th>TAX CLASS AT TIME OF SALE</th>\n",
       "      <th>BUILDING CLASS AT TIME OF SALE</th>\n",
       "      <th>SALE PRICE</th>\n",
       "      <th>SALE DATE</th>\n",
       "      <th>SALE MONTH</th>\n",
       "      <th>SALE YEAR</th>\n",
       "    </tr>\n",
       "  </thead>\n",
       "  <tbody>\n",
       "    <tr>\n",
       "      <th>0</th>\n",
       "      <td>Manhattan</td>\n",
       "      <td>ALPHABET CITY</td>\n",
       "      <td>07 RENTALS - WALKUP APARTMENTS</td>\n",
       "      <td>2A</td>\n",
       "      <td>C2</td>\n",
       "      <td>5</td>\n",
       "      <td>0</td>\n",
       "      <td>5</td>\n",
       "      <td>1633.0</td>\n",
       "      <td>6440.0</td>\n",
       "      <td>1900</td>\n",
       "      <td>2</td>\n",
       "      <td>C2</td>\n",
       "      <td>6625000.0</td>\n",
       "      <td>2017-07-19</td>\n",
       "      <td>&lt;bound method PandasDelegate._add_delegate_acc...</td>\n",
       "      <td>2017</td>\n",
       "    </tr>\n",
       "    <tr>\n",
       "      <th>3</th>\n",
       "      <td>Manhattan</td>\n",
       "      <td>ALPHABET CITY</td>\n",
       "      <td>07 RENTALS - WALKUP APARTMENTS</td>\n",
       "      <td>2B</td>\n",
       "      <td>C4</td>\n",
       "      <td>10</td>\n",
       "      <td>0</td>\n",
       "      <td>10</td>\n",
       "      <td>2272.0</td>\n",
       "      <td>6794.0</td>\n",
       "      <td>1913</td>\n",
       "      <td>2</td>\n",
       "      <td>C4</td>\n",
       "      <td>3936272.0</td>\n",
       "      <td>2016-09-23</td>\n",
       "      <td>&lt;bound method PandasDelegate._add_delegate_acc...</td>\n",
       "      <td>2016</td>\n",
       "    </tr>\n",
       "    <tr>\n",
       "      <th>4</th>\n",
       "      <td>Manhattan</td>\n",
       "      <td>ALPHABET CITY</td>\n",
       "      <td>07 RENTALS - WALKUP APARTMENTS</td>\n",
       "      <td>2A</td>\n",
       "      <td>C2</td>\n",
       "      <td>6</td>\n",
       "      <td>0</td>\n",
       "      <td>6</td>\n",
       "      <td>2369.0</td>\n",
       "      <td>4615.0</td>\n",
       "      <td>1900</td>\n",
       "      <td>2</td>\n",
       "      <td>C2</td>\n",
       "      <td>8000000.0</td>\n",
       "      <td>2016-11-17</td>\n",
       "      <td>&lt;bound method PandasDelegate._add_delegate_acc...</td>\n",
       "      <td>2016</td>\n",
       "    </tr>\n",
       "    <tr>\n",
       "      <th>6</th>\n",
       "      <td>Manhattan</td>\n",
       "      <td>ALPHABET CITY</td>\n",
       "      <td>07 RENTALS - WALKUP APARTMENTS</td>\n",
       "      <td>2B</td>\n",
       "      <td>C4</td>\n",
       "      <td>8</td>\n",
       "      <td>0</td>\n",
       "      <td>8</td>\n",
       "      <td>1750.0</td>\n",
       "      <td>4226.0</td>\n",
       "      <td>1920</td>\n",
       "      <td>2</td>\n",
       "      <td>C4</td>\n",
       "      <td>3192840.0</td>\n",
       "      <td>2016-09-23</td>\n",
       "      <td>&lt;bound method PandasDelegate._add_delegate_acc...</td>\n",
       "      <td>2016</td>\n",
       "    </tr>\n",
       "    <tr>\n",
       "      <th>9</th>\n",
       "      <td>Manhattan</td>\n",
       "      <td>ALPHABET CITY</td>\n",
       "      <td>08 RENTALS - ELEVATOR APARTMENTS</td>\n",
       "      <td>2</td>\n",
       "      <td>D9</td>\n",
       "      <td>24</td>\n",
       "      <td>0</td>\n",
       "      <td>24</td>\n",
       "      <td>4489.0</td>\n",
       "      <td>18523.0</td>\n",
       "      <td>1920</td>\n",
       "      <td>2</td>\n",
       "      <td>D9</td>\n",
       "      <td>16232000.0</td>\n",
       "      <td>2016-11-07</td>\n",
       "      <td>&lt;bound method PandasDelegate._add_delegate_acc...</td>\n",
       "      <td>2016</td>\n",
       "    </tr>\n",
       "  </tbody>\n",
       "</table>\n",
       "</div>"
      ],
      "text/plain": [
       "     BOROUGH   NEIGHBORHOOD                      BUILDING CLASS CATEGORY  \\\n",
       "0  Manhattan  ALPHABET CITY  07 RENTALS - WALKUP APARTMENTS                \n",
       "3  Manhattan  ALPHABET CITY  07 RENTALS - WALKUP APARTMENTS                \n",
       "4  Manhattan  ALPHABET CITY  07 RENTALS - WALKUP APARTMENTS                \n",
       "6  Manhattan  ALPHABET CITY  07 RENTALS - WALKUP APARTMENTS                \n",
       "9  Manhattan  ALPHABET CITY  08 RENTALS - ELEVATOR APARTMENTS              \n",
       "\n",
       "  TAX CLASS AT PRESENT BUILDING CLASS AT PRESENT  RESIDENTIAL UNITS  \\\n",
       "0                   2A                        C2                  5   \n",
       "3                   2B                        C4                 10   \n",
       "4                   2A                        C2                  6   \n",
       "6                   2B                        C4                  8   \n",
       "9                    2                        D9                 24   \n",
       "\n",
       "   COMMERCIAL UNITS  TOTAL UNITS  LAND SQUARE FEET  GROSS SQUARE FEET  \\\n",
       "0                 0            5            1633.0             6440.0   \n",
       "3                 0           10            2272.0             6794.0   \n",
       "4                 0            6            2369.0             4615.0   \n",
       "6                 0            8            1750.0             4226.0   \n",
       "9                 0           24            4489.0            18523.0   \n",
       "\n",
       "  YEAR BUILT TAX CLASS AT TIME OF SALE BUILDING CLASS AT TIME OF SALE  \\\n",
       "0       1900                         2                             C2   \n",
       "3       1913                         2                             C4   \n",
       "4       1900                         2                             C2   \n",
       "6       1920                         2                             C4   \n",
       "9       1920                         2                             D9   \n",
       "\n",
       "   SALE PRICE  SALE DATE                                         SALE MONTH  \\\n",
       "0   6625000.0 2017-07-19  <bound method PandasDelegate._add_delegate_acc...   \n",
       "3   3936272.0 2016-09-23  <bound method PandasDelegate._add_delegate_acc...   \n",
       "4   8000000.0 2016-11-17  <bound method PandasDelegate._add_delegate_acc...   \n",
       "6   3192840.0 2016-09-23  <bound method PandasDelegate._add_delegate_acc...   \n",
       "9  16232000.0 2016-11-07  <bound method PandasDelegate._add_delegate_acc...   \n",
       "\n",
       "   SALE YEAR  \n",
       "0       2017  \n",
       "3       2016  \n",
       "4       2016  \n",
       "6       2016  \n",
       "9       2016  "
      ]
     },
     "execution_count": 18,
     "metadata": {},
     "output_type": "execute_result"
    }
   ],
   "source": [
    "df_sales['BOROUGH'] = df_sales['BOROUGH'].map({1:'Manhattan', 2:'Bronx', 3: 'Brooklyn', 4:'Queens',5:'Staten Island'})\n",
    "df_sales.head()"
   ]
  },
  {
   "cell_type": "markdown",
   "id": "1b8c592e",
   "metadata": {},
   "source": [
    "### Mengatasi *outlier* pada masing-masing kolom numerik"
   ]
  },
  {
   "cell_type": "code",
   "execution_count": 19,
   "id": "8a878326",
   "metadata": {},
   "outputs": [
    {
     "data": {
      "text/html": [
       "<div>\n",
       "<style scoped>\n",
       "    .dataframe tbody tr th:only-of-type {\n",
       "        vertical-align: middle;\n",
       "    }\n",
       "\n",
       "    .dataframe tbody tr th {\n",
       "        vertical-align: top;\n",
       "    }\n",
       "\n",
       "    .dataframe thead th {\n",
       "        text-align: right;\n",
       "    }\n",
       "</style>\n",
       "<table border=\"1\" class=\"dataframe\">\n",
       "  <thead>\n",
       "    <tr style=\"text-align: right;\">\n",
       "      <th></th>\n",
       "      <th>RESIDENTIAL UNITS</th>\n",
       "      <th>COMMERCIAL UNITS</th>\n",
       "      <th>TOTAL UNITS</th>\n",
       "      <th>LAND SQUARE FEET</th>\n",
       "      <th>GROSS SQUARE FEET</th>\n",
       "      <th>SALE PRICE</th>\n",
       "      <th>SALE YEAR</th>\n",
       "    </tr>\n",
       "  </thead>\n",
       "  <tbody>\n",
       "    <tr>\n",
       "      <th>count</th>\n",
       "      <td>47285.000000</td>\n",
       "      <td>47285.000000</td>\n",
       "      <td>47285.000000</td>\n",
       "      <td>4.728500e+04</td>\n",
       "      <td>4.728500e+04</td>\n",
       "      <td>4.728500e+04</td>\n",
       "      <td>47285.000000</td>\n",
       "    </tr>\n",
       "    <tr>\n",
       "      <th>mean</th>\n",
       "      <td>2.514053</td>\n",
       "      <td>0.239717</td>\n",
       "      <td>2.770561</td>\n",
       "      <td>3.291470e+03</td>\n",
       "      <td>3.530269e+03</td>\n",
       "      <td>1.171341e+06</td>\n",
       "      <td>2016.647393</td>\n",
       "    </tr>\n",
       "    <tr>\n",
       "      <th>std</th>\n",
       "      <td>16.532690</td>\n",
       "      <td>10.915300</td>\n",
       "      <td>19.935527</td>\n",
       "      <td>3.071844e+04</td>\n",
       "      <td>2.916192e+04</td>\n",
       "      <td>1.352859e+07</td>\n",
       "      <td>0.477787</td>\n",
       "    </tr>\n",
       "    <tr>\n",
       "      <th>min</th>\n",
       "      <td>0.000000</td>\n",
       "      <td>0.000000</td>\n",
       "      <td>0.000000</td>\n",
       "      <td>0.000000e+00</td>\n",
       "      <td>0.000000e+00</td>\n",
       "      <td>0.000000e+00</td>\n",
       "      <td>2016.000000</td>\n",
       "    </tr>\n",
       "    <tr>\n",
       "      <th>25%</th>\n",
       "      <td>1.000000</td>\n",
       "      <td>0.000000</td>\n",
       "      <td>1.000000</td>\n",
       "      <td>1.463000e+03</td>\n",
       "      <td>8.840000e+02</td>\n",
       "      <td>1.247340e+05</td>\n",
       "      <td>2016.000000</td>\n",
       "    </tr>\n",
       "    <tr>\n",
       "      <th>50%</th>\n",
       "      <td>1.000000</td>\n",
       "      <td>0.000000</td>\n",
       "      <td>1.000000</td>\n",
       "      <td>2.150000e+03</td>\n",
       "      <td>1.628000e+03</td>\n",
       "      <td>4.900000e+05</td>\n",
       "      <td>2017.000000</td>\n",
       "    </tr>\n",
       "    <tr>\n",
       "      <th>75%</th>\n",
       "      <td>2.000000</td>\n",
       "      <td>0.000000</td>\n",
       "      <td>2.000000</td>\n",
       "      <td>3.088000e+03</td>\n",
       "      <td>2.520000e+03</td>\n",
       "      <td>8.400000e+05</td>\n",
       "      <td>2017.000000</td>\n",
       "    </tr>\n",
       "    <tr>\n",
       "      <th>max</th>\n",
       "      <td>1844.000000</td>\n",
       "      <td>2261.000000</td>\n",
       "      <td>2261.000000</td>\n",
       "      <td>4.228300e+06</td>\n",
       "      <td>3.750565e+06</td>\n",
       "      <td>2.210000e+09</td>\n",
       "      <td>2017.000000</td>\n",
       "    </tr>\n",
       "  </tbody>\n",
       "</table>\n",
       "</div>"
      ],
      "text/plain": [
       "       RESIDENTIAL UNITS  COMMERCIAL UNITS   TOTAL UNITS  LAND SQUARE FEET  \\\n",
       "count       47285.000000      47285.000000  47285.000000      4.728500e+04   \n",
       "mean            2.514053          0.239717      2.770561      3.291470e+03   \n",
       "std            16.532690         10.915300     19.935527      3.071844e+04   \n",
       "min             0.000000          0.000000      0.000000      0.000000e+00   \n",
       "25%             1.000000          0.000000      1.000000      1.463000e+03   \n",
       "50%             1.000000          0.000000      1.000000      2.150000e+03   \n",
       "75%             2.000000          0.000000      2.000000      3.088000e+03   \n",
       "max          1844.000000       2261.000000   2261.000000      4.228300e+06   \n",
       "\n",
       "       GROSS SQUARE FEET    SALE PRICE     SALE YEAR  \n",
       "count       4.728500e+04  4.728500e+04  47285.000000  \n",
       "mean        3.530269e+03  1.171341e+06   2016.647393  \n",
       "std         2.916192e+04  1.352859e+07      0.477787  \n",
       "min         0.000000e+00  0.000000e+00   2016.000000  \n",
       "25%         8.840000e+02  1.247340e+05   2016.000000  \n",
       "50%         1.628000e+03  4.900000e+05   2017.000000  \n",
       "75%         2.520000e+03  8.400000e+05   2017.000000  \n",
       "max         3.750565e+06  2.210000e+09   2017.000000  "
      ]
     },
     "execution_count": 19,
     "metadata": {},
     "output_type": "execute_result"
    }
   ],
   "source": [
    "df_sales.describe()"
   ]
  },
  {
   "cell_type": "code",
   "execution_count": 20,
   "id": "074446fd",
   "metadata": {},
   "outputs": [
    {
     "data": {
      "text/html": [
       "<div>\n",
       "<style scoped>\n",
       "    .dataframe tbody tr th:only-of-type {\n",
       "        vertical-align: middle;\n",
       "    }\n",
       "\n",
       "    .dataframe tbody tr th {\n",
       "        vertical-align: top;\n",
       "    }\n",
       "\n",
       "    .dataframe thead th {\n",
       "        text-align: right;\n",
       "    }\n",
       "</style>\n",
       "<table border=\"1\" class=\"dataframe\">\n",
       "  <thead>\n",
       "    <tr style=\"text-align: right;\">\n",
       "      <th></th>\n",
       "      <th>BOROUGH</th>\n",
       "      <th>NEIGHBORHOOD</th>\n",
       "      <th>BUILDING CLASS CATEGORY</th>\n",
       "      <th>TAX CLASS AT PRESENT</th>\n",
       "      <th>BUILDING CLASS AT PRESENT</th>\n",
       "      <th>YEAR BUILT</th>\n",
       "      <th>TAX CLASS AT TIME OF SALE</th>\n",
       "      <th>BUILDING CLASS AT TIME OF SALE</th>\n",
       "    </tr>\n",
       "  </thead>\n",
       "  <tbody>\n",
       "    <tr>\n",
       "      <th>count</th>\n",
       "      <td>47285</td>\n",
       "      <td>47285</td>\n",
       "      <td>47285</td>\n",
       "      <td>47285</td>\n",
       "      <td>47285</td>\n",
       "      <td>47285</td>\n",
       "      <td>47285</td>\n",
       "      <td>47285</td>\n",
       "    </tr>\n",
       "    <tr>\n",
       "      <th>unique</th>\n",
       "      <td>5</td>\n",
       "      <td>251</td>\n",
       "      <td>47</td>\n",
       "      <td>11</td>\n",
       "      <td>160</td>\n",
       "      <td>151</td>\n",
       "      <td>4</td>\n",
       "      <td>160</td>\n",
       "    </tr>\n",
       "    <tr>\n",
       "      <th>top</th>\n",
       "      <td>Brooklyn</td>\n",
       "      <td>BEDFORD STUYVESANT</td>\n",
       "      <td>01 ONE FAMILY DWELLINGS</td>\n",
       "      <td>1</td>\n",
       "      <td>A1</td>\n",
       "      <td>1920</td>\n",
       "      <td>1</td>\n",
       "      <td>A1</td>\n",
       "    </tr>\n",
       "    <tr>\n",
       "      <th>freq</th>\n",
       "      <td>23395</td>\n",
       "      <td>1387</td>\n",
       "      <td>14301</td>\n",
       "      <td>30953</td>\n",
       "      <td>5224</td>\n",
       "      <td>4465</td>\n",
       "      <td>32151</td>\n",
       "      <td>5219</td>\n",
       "    </tr>\n",
       "  </tbody>\n",
       "</table>\n",
       "</div>"
      ],
      "text/plain": [
       "         BOROUGH        NEIGHBORHOOD  \\\n",
       "count      47285               47285   \n",
       "unique         5                 251   \n",
       "top     Brooklyn  BEDFORD STUYVESANT   \n",
       "freq       23395                1387   \n",
       "\n",
       "                            BUILDING CLASS CATEGORY TAX CLASS AT PRESENT  \\\n",
       "count                                         47285                47285   \n",
       "unique                                           47                   11   \n",
       "top     01 ONE FAMILY DWELLINGS                                        1   \n",
       "freq                                          14301                30953   \n",
       "\n",
       "       BUILDING CLASS AT PRESENT  YEAR BUILT  TAX CLASS AT TIME OF SALE  \\\n",
       "count                      47285       47285                      47285   \n",
       "unique                       160         151                          4   \n",
       "top                           A1        1920                          1   \n",
       "freq                        5224        4465                      32151   \n",
       "\n",
       "       BUILDING CLASS AT TIME OF SALE  \n",
       "count                           47285  \n",
       "unique                            160  \n",
       "top                                A1  \n",
       "freq                             5219  "
      ]
     },
     "execution_count": 20,
     "metadata": {},
     "output_type": "execute_result"
    }
   ],
   "source": [
    "df_sales.describe(include='category')"
   ]
  },
  {
   "cell_type": "markdown",
   "id": "a53f282d",
   "metadata": {},
   "source": [
    "Penentuan outlier dan nilai-nilai lain yang tidak signifikan pada dataset berdasarkan tabel informasi statistik di atas."
   ]
  },
  {
   "cell_type": "markdown",
   "id": "45d1882e",
   "metadata": {},
   "source": [
    "### Columns SALE PRICE"
   ]
  },
  {
   "cell_type": "markdown",
   "id": "b2c9e784",
   "metadata": {},
   "source": [
    "Diketahui berdasarkan nilai maksimum pada kolom `SALE PRICE` adalah sekitar 2.000.000.000 USD, sedangkan nilai kuartil-3-nya adalah sekitar 8.400.000 USD. Maka dari itu, akan dilihat distribusi frekuensi kolom `SALE PRICE` di mana nilai harga penjualan di atas 10.000.000 USD tidak disertakan."
   ]
  },
  {
   "cell_type": "code",
   "execution_count": 21,
   "id": "2b28b354",
   "metadata": {},
   "outputs": [
    {
     "data": {
      "text/plain": [
       "Text(0.5, 1.0, 'Distribusi SALE PRICE')"
      ]
     },
     "execution_count": 21,
     "metadata": {},
     "output_type": "execute_result"
    },
    {
     "data": {
      "text/plain": [
       "<Figure size 720x360 with 0 Axes>"
      ]
     },
     "metadata": {},
     "output_type": "display_data"
    },
    {
     "data": {
      "image/png": "[encoded data removed]",
      "text/plain": [
       "<Figure size 360x360 with 1 Axes>"
      ]
     },
     "metadata": {
      "needs_background": "light"
     },
     "output_type": "display_data"
    }
   ],
   "source": [
    "df_sales = df_sales[df_sales['SALE PRICE']<10000000].copy()\n",
    "plt.figure(figsize=(10,5))\n",
    "sns.displot(df_sales['SALE PRICE'], kde=True, bins=50)\n",
    "plt.title('Distribusi SALE PRICE')"
   ]
  },
  {
   "cell_type": "markdown",
   "id": "00fdc42c",
   "metadata": {},
   "source": [
    "Karena masih terdapat nilai harga penjualan yang berbeda signifikan, maka akan nilai harga penjualan di atas 5.000.000 USD tidak akan disertakan, selain itu berdasarkan nilai kuartil-1 yaitu sekitar 100.000 USD, harga penjualan di bawah ini juga tidak akan disertakan dalam analisis. Sehingga, didapatkan distribusi frekuensi sebagai berikut:"
   ]
  },
  {
   "cell_type": "code",
   "execution_count": 22,
   "id": "7fd67a93",
   "metadata": {},
   "outputs": [
    {
     "data": {
      "text/plain": [
       "Text(0.5, 1.0, 'Distribusi SALE PRICE')"
      ]
     },
     "execution_count": 22,
     "metadata": {},
     "output_type": "execute_result"
    },
    {
     "data": {
      "text/plain": [
       "<Figure size 720x360 with 0 Axes>"
      ]
     },
     "metadata": {},
     "output_type": "display_data"
    },
    {
     "data": {
      "image/png": "[encoded data removed]",
      "text/plain": [
       "<Figure size 360x360 with 1 Axes>"
      ]
     },
     "metadata": {
      "needs_background": "light"
     },
     "output_type": "display_data"
    }
   ],
   "source": [
    "df_sales = df_sales[(df_sales['SALE PRICE']>100000) & (df_sales['SALE PRICE']<5000000)]\n",
    "plt.figure(figsize=(10,5))\n",
    "sns.displot(df_sales['SALE PRICE'], kde=True, bins=50)\n",
    "plt.title('Distribusi SALE PRICE')"
   ]
  },
  {
   "cell_type": "code",
   "execution_count": 23,
   "id": "89cf9d79",
   "metadata": {},
   "outputs": [
    {
     "data": {
      "text/plain": [
       "count    3.458700e+04\n",
       "mean     7.965060e+05\n",
       "std      6.536591e+05\n",
       "min      1.007000e+05\n",
       "25%      4.160950e+05\n",
       "50%      6.160000e+05\n",
       "75%      9.300000e+05\n",
       "max      4.986410e+06\n",
       "Name: SALE PRICE, dtype: float64"
      ]
     },
     "execution_count": 23,
     "metadata": {},
     "output_type": "execute_result"
    }
   ],
   "source": [
    "df_sales['SALE PRICE'].describe()"
   ]
  },
  {
   "cell_type": "markdown",
   "id": "db671492",
   "metadata": {},
   "source": [
    "Berdasarkan analisis di atas, diketahui bahwa kolom `SALE PRICE` pada dataset awal memiliki nilai minimum 0 dan nilai maksimum sekitar 2.000.000.000 USD, di mana nilai di bawah kuartil 1 dan nilai di atas kuartil 3 dianggap sebagai *outlier*, sehingga pada dataset akhir didapat nilai minimum sekitar 100.000 USD dan nilai maksimum sekitar 5.000.000 USD."
   ]
  },
  {
   "cell_type": "markdown",
   "id": "7b630042",
   "metadata": {},
   "source": [
    "### Kolom `LAND SQUARE FEET` dan `GROSS SQUARE FEET`"
   ]
  },
  {
   "cell_type": "markdown",
   "id": "3b4ab2db",
   "metadata": {},
   "source": [
    "Berdasarkan tabel informasi statistik pada kolom `LAND SQUARE FEET` dan `GROSS SQUARE FEET`, terdapat nilai 0 pada kedua kolom ini, sehingga baris yang mengandung nilai 0 pada kedua kolom ini tidak disertakan dalam analisis karena ukuran lahan properti dalam satuan feet tidak memiliki kemungkinan bernilai 0."
   ]
  },
  {
   "cell_type": "code",
   "execution_count": 24,
   "id": "7ee4c197",
   "metadata": {},
   "outputs": [],
   "source": [
    "df_sales = df_sales[df_sales['LAND SQUARE FEET'] != 0]\n",
    "df_sales = df_sales[df_sales['GROSS SQUARE FEET'] != 0]"
   ]
  },
  {
   "cell_type": "markdown",
   "id": "6c736054",
   "metadata": {},
   "source": [
    "### Kolom `TOTAL UNITS`"
   ]
  },
  {
   "cell_type": "markdown",
   "id": "51d8730f",
   "metadata": {},
   "source": [
    "Pada analisis berikut ini, kolom `TOTAL UNITS` akan dilihat nilai yang tidak signifikan."
   ]
  },
  {
   "cell_type": "code",
   "execution_count": 25,
   "id": "bd657096",
   "metadata": {},
   "outputs": [
    {
     "data": {
      "text/html": [
       "<div>\n",
       "<style scoped>\n",
       "    .dataframe tbody tr th:only-of-type {\n",
       "        vertical-align: middle;\n",
       "    }\n",
       "\n",
       "    .dataframe tbody tr th {\n",
       "        vertical-align: top;\n",
       "    }\n",
       "\n",
       "    .dataframe thead th {\n",
       "        text-align: right;\n",
       "    }\n",
       "</style>\n",
       "<table border=\"1\" class=\"dataframe\">\n",
       "  <thead>\n",
       "    <tr style=\"text-align: right;\">\n",
       "      <th></th>\n",
       "      <th>SALE PRICE</th>\n",
       "    </tr>\n",
       "    <tr>\n",
       "      <th>TOTAL UNITS</th>\n",
       "      <th></th>\n",
       "    </tr>\n",
       "  </thead>\n",
       "  <tbody>\n",
       "    <tr>\n",
       "      <th>1</th>\n",
       "      <td>12645</td>\n",
       "    </tr>\n",
       "    <tr>\n",
       "      <th>2</th>\n",
       "      <td>9507</td>\n",
       "    </tr>\n",
       "    <tr>\n",
       "      <th>3</th>\n",
       "      <td>2720</td>\n",
       "    </tr>\n",
       "    <tr>\n",
       "      <th>4</th>\n",
       "      <td>704</td>\n",
       "    </tr>\n",
       "    <tr>\n",
       "      <th>6</th>\n",
       "      <td>361</td>\n",
       "    </tr>\n",
       "    <tr>\n",
       "      <th>...</th>\n",
       "      <td>...</td>\n",
       "    </tr>\n",
       "    <tr>\n",
       "      <th>51</th>\n",
       "      <td>1</td>\n",
       "    </tr>\n",
       "    <tr>\n",
       "      <th>34</th>\n",
       "      <td>1</td>\n",
       "    </tr>\n",
       "    <tr>\n",
       "      <th>47</th>\n",
       "      <td>1</td>\n",
       "    </tr>\n",
       "    <tr>\n",
       "      <th>39</th>\n",
       "      <td>1</td>\n",
       "    </tr>\n",
       "    <tr>\n",
       "      <th>2261</th>\n",
       "      <td>1</td>\n",
       "    </tr>\n",
       "  </tbody>\n",
       "</table>\n",
       "<p>70 rows × 1 columns</p>\n",
       "</div>"
      ],
      "text/plain": [
       "             SALE PRICE\n",
       "TOTAL UNITS            \n",
       "1                 12645\n",
       "2                  9507\n",
       "3                  2720\n",
       "4                   704\n",
       "6                   361\n",
       "...                 ...\n",
       "51                    1\n",
       "34                    1\n",
       "47                    1\n",
       "39                    1\n",
       "2261                  1\n",
       "\n",
       "[70 rows x 1 columns]"
      ]
     },
     "execution_count": 25,
     "metadata": {},
     "output_type": "execute_result"
    }
   ],
   "source": [
    "df_sales[['TOTAL UNITS','SALE PRICE']].groupby(['TOTAL UNITS']).count().sort_values(by='SALE PRICE',ascending=False)"
   ]
  },
  {
   "cell_type": "markdown",
   "id": "cf57911e",
   "metadata": {},
   "source": [
    "Berdasarkan tabel berikut diketahui bahwa terdapat 1 gedung properti yang memiliki total unit 2261, sehingga baris ini tidak disertakan dalam analisis."
   ]
  },
  {
   "cell_type": "code",
   "execution_count": 26,
   "id": "79931f26",
   "metadata": {},
   "outputs": [],
   "source": [
    "df_sales = df_sales[(df_sales['TOTAL UNITS'] > 0) & (df_sales['TOTAL UNITS'] != 2261)]"
   ]
  },
  {
   "cell_type": "markdown",
   "id": "f8b28856",
   "metadata": {},
   "source": [
    "### Kolom `YEAR BUILT`"
   ]
  },
  {
   "cell_type": "markdown",
   "id": "b6a4fdf2",
   "metadata": {},
   "source": [
    "Nilai 0 pada kolom `YEAR BUILT` tidak akan disertakan dalam analisis."
   ]
  },
  {
   "cell_type": "code",
   "execution_count": 27,
   "id": "b0380b50",
   "metadata": {},
   "outputs": [],
   "source": [
    "df_sales = df_sales[df_sales['YEAR BUILT'] != 0]"
   ]
  },
  {
   "cell_type": "markdown",
   "id": "a765d8bf",
   "metadata": {},
   "source": [
    "## Final Data"
   ]
  },
  {
   "cell_type": "code",
   "execution_count": 28,
   "id": "d6779d07",
   "metadata": {},
   "outputs": [
    {
     "data": {
      "text/html": [
       "<div>\n",
       "<style scoped>\n",
       "    .dataframe tbody tr th:only-of-type {\n",
       "        vertical-align: middle;\n",
       "    }\n",
       "\n",
       "    .dataframe tbody tr th {\n",
       "        vertical-align: top;\n",
       "    }\n",
       "\n",
       "    .dataframe thead th {\n",
       "        text-align: right;\n",
       "    }\n",
       "</style>\n",
       "<table border=\"1\" class=\"dataframe\">\n",
       "  <thead>\n",
       "    <tr style=\"text-align: right;\">\n",
       "      <th></th>\n",
       "      <th>index</th>\n",
       "      <th>BOROUGH</th>\n",
       "      <th>NEIGHBORHOOD</th>\n",
       "      <th>BUILDING CLASS CATEGORY</th>\n",
       "      <th>TAX CLASS AT PRESENT</th>\n",
       "      <th>BUILDING CLASS AT PRESENT</th>\n",
       "      <th>RESIDENTIAL UNITS</th>\n",
       "      <th>COMMERCIAL UNITS</th>\n",
       "      <th>TOTAL UNITS</th>\n",
       "      <th>LAND SQUARE FEET</th>\n",
       "      <th>GROSS SQUARE FEET</th>\n",
       "      <th>YEAR BUILT</th>\n",
       "      <th>TAX CLASS AT TIME OF SALE</th>\n",
       "      <th>BUILDING CLASS AT TIME OF SALE</th>\n",
       "      <th>SALE PRICE</th>\n",
       "      <th>SALE DATE</th>\n",
       "      <th>SALE MONTH</th>\n",
       "      <th>SALE YEAR</th>\n",
       "    </tr>\n",
       "  </thead>\n",
       "  <tbody>\n",
       "    <tr>\n",
       "      <th>0</th>\n",
       "      <td>3</td>\n",
       "      <td>Manhattan</td>\n",
       "      <td>ALPHABET CITY</td>\n",
       "      <td>07 RENTALS - WALKUP APARTMENTS</td>\n",
       "      <td>2B</td>\n",
       "      <td>C4</td>\n",
       "      <td>10</td>\n",
       "      <td>0</td>\n",
       "      <td>10</td>\n",
       "      <td>2272.0</td>\n",
       "      <td>6794.0</td>\n",
       "      <td>1913</td>\n",
       "      <td>2</td>\n",
       "      <td>C4</td>\n",
       "      <td>3936272.0</td>\n",
       "      <td>2016-09-23</td>\n",
       "      <td>&lt;bound method PandasDelegate._add_delegate_acc...</td>\n",
       "      <td>2016</td>\n",
       "    </tr>\n",
       "    <tr>\n",
       "      <th>1</th>\n",
       "      <td>6</td>\n",
       "      <td>Manhattan</td>\n",
       "      <td>ALPHABET CITY</td>\n",
       "      <td>07 RENTALS - WALKUP APARTMENTS</td>\n",
       "      <td>2B</td>\n",
       "      <td>C4</td>\n",
       "      <td>8</td>\n",
       "      <td>0</td>\n",
       "      <td>8</td>\n",
       "      <td>1750.0</td>\n",
       "      <td>4226.0</td>\n",
       "      <td>1920</td>\n",
       "      <td>2</td>\n",
       "      <td>C4</td>\n",
       "      <td>3192840.0</td>\n",
       "      <td>2016-09-23</td>\n",
       "      <td>&lt;bound method PandasDelegate._add_delegate_acc...</td>\n",
       "      <td>2016</td>\n",
       "    </tr>\n",
       "    <tr>\n",
       "      <th>2</th>\n",
       "      <td>172</td>\n",
       "      <td>Manhattan</td>\n",
       "      <td>ALPHABET CITY</td>\n",
       "      <td>14 RENTALS - 4-10 UNIT</td>\n",
       "      <td>2A</td>\n",
       "      <td>S3</td>\n",
       "      <td>3</td>\n",
       "      <td>1</td>\n",
       "      <td>4</td>\n",
       "      <td>1520.0</td>\n",
       "      <td>3360.0</td>\n",
       "      <td>1910</td>\n",
       "      <td>2</td>\n",
       "      <td>S3</td>\n",
       "      <td>3300000.0</td>\n",
       "      <td>2016-11-15</td>\n",
       "      <td>&lt;bound method PandasDelegate._add_delegate_acc...</td>\n",
       "      <td>2016</td>\n",
       "    </tr>\n",
       "    <tr>\n",
       "      <th>3</th>\n",
       "      <td>174</td>\n",
       "      <td>Manhattan</td>\n",
       "      <td>ALPHABET CITY</td>\n",
       "      <td>14 RENTALS - 4-10 UNIT</td>\n",
       "      <td>2A</td>\n",
       "      <td>S5</td>\n",
       "      <td>5</td>\n",
       "      <td>1</td>\n",
       "      <td>6</td>\n",
       "      <td>1779.0</td>\n",
       "      <td>3713.0</td>\n",
       "      <td>1910</td>\n",
       "      <td>2</td>\n",
       "      <td>S5</td>\n",
       "      <td>4750000.0</td>\n",
       "      <td>2017-04-03</td>\n",
       "      <td>&lt;bound method PandasDelegate._add_delegate_acc...</td>\n",
       "      <td>2017</td>\n",
       "    </tr>\n",
       "    <tr>\n",
       "      <th>4</th>\n",
       "      <td>195</td>\n",
       "      <td>Manhattan</td>\n",
       "      <td>ALPHABET CITY</td>\n",
       "      <td>22 STORE BUILDINGS</td>\n",
       "      <td>4</td>\n",
       "      <td>K4</td>\n",
       "      <td>0</td>\n",
       "      <td>1</td>\n",
       "      <td>1</td>\n",
       "      <td>1218.0</td>\n",
       "      <td>3586.0</td>\n",
       "      <td>1899</td>\n",
       "      <td>4</td>\n",
       "      <td>K4</td>\n",
       "      <td>3700000.0</td>\n",
       "      <td>2016-09-28</td>\n",
       "      <td>&lt;bound method PandasDelegate._add_delegate_acc...</td>\n",
       "      <td>2016</td>\n",
       "    </tr>\n",
       "  </tbody>\n",
       "</table>\n",
       "</div>"
      ],
      "text/plain": [
       "   index    BOROUGH   NEIGHBORHOOD  \\\n",
       "0      3  Manhattan  ALPHABET CITY   \n",
       "1      6  Manhattan  ALPHABET CITY   \n",
       "2    172  Manhattan  ALPHABET CITY   \n",
       "3    174  Manhattan  ALPHABET CITY   \n",
       "4    195  Manhattan  ALPHABET CITY   \n",
       "\n",
       "                       BUILDING CLASS CATEGORY TAX CLASS AT PRESENT  \\\n",
       "0  07 RENTALS - WALKUP APARTMENTS                                2B   \n",
       "1  07 RENTALS - WALKUP APARTMENTS                                2B   \n",
       "2  14 RENTALS - 4-10 UNIT                                        2A   \n",
       "3  14 RENTALS - 4-10 UNIT                                        2A   \n",
       "4  22 STORE BUILDINGS                                             4   \n",
       "\n",
       "  BUILDING CLASS AT PRESENT  RESIDENTIAL UNITS  COMMERCIAL UNITS  TOTAL UNITS  \\\n",
       "0                        C4                 10                 0           10   \n",
       "1                        C4                  8                 0            8   \n",
       "2                        S3                  3                 1            4   \n",
       "3                        S5                  5                 1            6   \n",
       "4                        K4                  0                 1            1   \n",
       "\n",
       "   LAND SQUARE FEET  GROSS SQUARE FEET YEAR BUILT TAX CLASS AT TIME OF SALE  \\\n",
       "0            2272.0             6794.0       1913                         2   \n",
       "1            1750.0             4226.0       1920                         2   \n",
       "2            1520.0             3360.0       1910                         2   \n",
       "3            1779.0             3713.0       1910                         2   \n",
       "4            1218.0             3586.0       1899                         4   \n",
       "\n",
       "  BUILDING CLASS AT TIME OF SALE  SALE PRICE  SALE DATE  \\\n",
       "0                             C4   3936272.0 2016-09-23   \n",
       "1                             C4   3192840.0 2016-09-23   \n",
       "2                             S3   3300000.0 2016-11-15   \n",
       "3                             S5   4750000.0 2017-04-03   \n",
       "4                             K4   3700000.0 2016-09-28   \n",
       "\n",
       "                                          SALE MONTH  SALE YEAR  \n",
       "0  <bound method PandasDelegate._add_delegate_acc...       2016  \n",
       "1  <bound method PandasDelegate._add_delegate_acc...       2016  \n",
       "2  <bound method PandasDelegate._add_delegate_acc...       2016  \n",
       "3  <bound method PandasDelegate._add_delegate_acc...       2017  \n",
       "4  <bound method PandasDelegate._add_delegate_acc...       2016  "
      ]
     },
     "execution_count": 28,
     "metadata": {},
     "output_type": "execute_result"
    }
   ],
   "source": [
    "# Mengurutkan indeks sesuai dengan nomor baris\n",
    "df_sales.reset_index(inplace=True)\n",
    "df_sales.head()"
   ]
  },
  {
   "cell_type": "code",
   "execution_count": 29,
   "id": "72a8c389",
   "metadata": {},
   "outputs": [
    {
     "data": {
      "text/plain": [
       "(26655, 18)"
      ]
     },
     "execution_count": 29,
     "metadata": {},
     "output_type": "execute_result"
    }
   ],
   "source": [
    "df_sales.shape"
   ]
  },
  {
   "cell_type": "code",
   "execution_count": 30,
   "id": "98f10874",
   "metadata": {},
   "outputs": [
    {
     "name": "stdout",
     "output_type": "stream",
     "text": [
      "<class 'pandas.core.frame.DataFrame'>\n",
      "RangeIndex: 26655 entries, 0 to 26654\n",
      "Data columns (total 18 columns):\n",
      " #   Column                          Non-Null Count  Dtype         \n",
      "---  ------                          --------------  -----         \n",
      " 0   index                           26655 non-null  int64         \n",
      " 1   BOROUGH                         26655 non-null  category      \n",
      " 2   NEIGHBORHOOD                    26655 non-null  category      \n",
      " 3   BUILDING CLASS CATEGORY         26655 non-null  category      \n",
      " 4   TAX CLASS AT PRESENT            26655 non-null  category      \n",
      " 5   BUILDING CLASS AT PRESENT       26655 non-null  category      \n",
      " 6   RESIDENTIAL UNITS               26655 non-null  int64         \n",
      " 7   COMMERCIAL UNITS                26655 non-null  int64         \n",
      " 8   TOTAL UNITS                     26655 non-null  int64         \n",
      " 9   LAND SQUARE FEET                26655 non-null  float64       \n",
      " 10  GROSS SQUARE FEET               26655 non-null  float64       \n",
      " 11  YEAR BUILT                      26655 non-null  category      \n",
      " 12  TAX CLASS AT TIME OF SALE       26655 non-null  category      \n",
      " 13  BUILDING CLASS AT TIME OF SALE  26655 non-null  category      \n",
      " 14  SALE PRICE                      26655 non-null  float64       \n",
      " 15  SALE DATE                       26655 non-null  datetime64[ns]\n",
      " 16  SALE MONTH                      26655 non-null  object        \n",
      " 17  SALE YEAR                       26655 non-null  int64         \n",
      "dtypes: category(8), datetime64[ns](1), float64(3), int64(5), object(1)\n",
      "memory usage: 2.4+ MB\n"
     ]
    }
   ],
   "source": [
    "df_sales.info()"
   ]
  },
  {
   "cell_type": "code",
   "execution_count": 31,
   "id": "4967a660",
   "metadata": {},
   "outputs": [],
   "source": [
    "kol = ['index']\n",
    "df_sales.drop(kol, axis=1, inplace=True)"
   ]
  },
  {
   "cell_type": "code",
   "execution_count": 32,
   "id": "eed7532f",
   "metadata": {},
   "outputs": [
    {
     "data": {
      "text/html": [
       "<div>\n",
       "<style scoped>\n",
       "    .dataframe tbody tr th:only-of-type {\n",
       "        vertical-align: middle;\n",
       "    }\n",
       "\n",
       "    .dataframe tbody tr th {\n",
       "        vertical-align: top;\n",
       "    }\n",
       "\n",
       "    .dataframe thead th {\n",
       "        text-align: right;\n",
       "    }\n",
       "</style>\n",
       "<table border=\"1\" class=\"dataframe\">\n",
       "  <thead>\n",
       "    <tr style=\"text-align: right;\">\n",
       "      <th></th>\n",
       "      <th>RESIDENTIAL UNITS</th>\n",
       "      <th>COMMERCIAL UNITS</th>\n",
       "      <th>TOTAL UNITS</th>\n",
       "      <th>LAND SQUARE FEET</th>\n",
       "      <th>GROSS SQUARE FEET</th>\n",
       "      <th>SALE PRICE</th>\n",
       "      <th>SALE YEAR</th>\n",
       "    </tr>\n",
       "  </thead>\n",
       "  <tbody>\n",
       "    <tr>\n",
       "      <th>count</th>\n",
       "      <td>26655.000000</td>\n",
       "      <td>26655.000000</td>\n",
       "      <td>26655.000000</td>\n",
       "      <td>2.665500e+04</td>\n",
       "      <td>2.665500e+04</td>\n",
       "      <td>2.665500e+04</td>\n",
       "      <td>26655.000000</td>\n",
       "    </tr>\n",
       "    <tr>\n",
       "      <th>mean</th>\n",
       "      <td>2.080773</td>\n",
       "      <td>0.117802</td>\n",
       "      <td>2.197336</td>\n",
       "      <td>3.603452e+03</td>\n",
       "      <td>2.686305e+03</td>\n",
       "      <td>8.062293e+05</td>\n",
       "      <td>2016.647383</td>\n",
       "    </tr>\n",
       "    <tr>\n",
       "      <th>std</th>\n",
       "      <td>12.937363</td>\n",
       "      <td>1.258036</td>\n",
       "      <td>13.119845</td>\n",
       "      <td>3.212287e+04</td>\n",
       "      <td>2.520718e+04</td>\n",
       "      <td>6.452676e+05</td>\n",
       "      <td>0.477794</td>\n",
       "    </tr>\n",
       "    <tr>\n",
       "      <th>min</th>\n",
       "      <td>0.000000</td>\n",
       "      <td>0.000000</td>\n",
       "      <td>1.000000</td>\n",
       "      <td>2.000000e+02</td>\n",
       "      <td>1.200000e+02</td>\n",
       "      <td>1.007000e+05</td>\n",
       "      <td>2016.000000</td>\n",
       "    </tr>\n",
       "    <tr>\n",
       "      <th>25%</th>\n",
       "      <td>1.000000</td>\n",
       "      <td>0.000000</td>\n",
       "      <td>1.000000</td>\n",
       "      <td>2.000000e+03</td>\n",
       "      <td>1.344000e+03</td>\n",
       "      <td>4.400000e+05</td>\n",
       "      <td>2016.000000</td>\n",
       "    </tr>\n",
       "    <tr>\n",
       "      <th>50%</th>\n",
       "      <td>2.000000</td>\n",
       "      <td>0.000000</td>\n",
       "      <td>2.000000</td>\n",
       "      <td>2.500000e+03</td>\n",
       "      <td>1.813000e+03</td>\n",
       "      <td>6.250000e+05</td>\n",
       "      <td>2017.000000</td>\n",
       "    </tr>\n",
       "    <tr>\n",
       "      <th>75%</th>\n",
       "      <td>2.000000</td>\n",
       "      <td>0.000000</td>\n",
       "      <td>2.000000</td>\n",
       "      <td>3.840000e+03</td>\n",
       "      <td>2.505000e+03</td>\n",
       "      <td>9.210510e+05</td>\n",
       "      <td>2017.000000</td>\n",
       "    </tr>\n",
       "    <tr>\n",
       "      <th>max</th>\n",
       "      <td>1844.000000</td>\n",
       "      <td>126.000000</td>\n",
       "      <td>1866.000000</td>\n",
       "      <td>4.228300e+06</td>\n",
       "      <td>3.750565e+06</td>\n",
       "      <td>4.975000e+06</td>\n",
       "      <td>2017.000000</td>\n",
       "    </tr>\n",
       "  </tbody>\n",
       "</table>\n",
       "</div>"
      ],
      "text/plain": [
       "       RESIDENTIAL UNITS  COMMERCIAL UNITS   TOTAL UNITS  LAND SQUARE FEET  \\\n",
       "count       26655.000000      26655.000000  26655.000000      2.665500e+04   \n",
       "mean            2.080773          0.117802      2.197336      3.603452e+03   \n",
       "std            12.937363          1.258036     13.119845      3.212287e+04   \n",
       "min             0.000000          0.000000      1.000000      2.000000e+02   \n",
       "25%             1.000000          0.000000      1.000000      2.000000e+03   \n",
       "50%             2.000000          0.000000      2.000000      2.500000e+03   \n",
       "75%             2.000000          0.000000      2.000000      3.840000e+03   \n",
       "max          1844.000000        126.000000   1866.000000      4.228300e+06   \n",
       "\n",
       "       GROSS SQUARE FEET    SALE PRICE     SALE YEAR  \n",
       "count       2.665500e+04  2.665500e+04  26655.000000  \n",
       "mean        2.686305e+03  8.062293e+05   2016.647383  \n",
       "std         2.520718e+04  6.452676e+05      0.477794  \n",
       "min         1.200000e+02  1.007000e+05   2016.000000  \n",
       "25%         1.344000e+03  4.400000e+05   2016.000000  \n",
       "50%         1.813000e+03  6.250000e+05   2017.000000  \n",
       "75%         2.505000e+03  9.210510e+05   2017.000000  \n",
       "max         3.750565e+06  4.975000e+06   2017.000000  "
      ]
     },
     "execution_count": 32,
     "metadata": {},
     "output_type": "execute_result"
    }
   ],
   "source": [
    "# Nilai statistik kolom numerik pada dataset baru\n",
    "df_sales.describe() "
   ]
  },
  {
   "cell_type": "markdown",
   "id": "4101ae31",
   "metadata": {},
   "source": [
    "# Analisis data dengan Descriptive Statistics dan Inferential"
   ]
  },
  {
   "cell_type": "markdown",
   "id": "f1465a7a",
   "metadata": {},
   "source": [
    "Setelah dilakukannya data cleaning and preprocessing akan dilakukan analisis data dengan statistik deskriptif dan inferensia untuk mengetahui informasi yang terkandung dalam data. Menggunakan analisis statistik deskriptif & inferensia dapat menjawab pertanyaan/asumsi pada dataset sebagai berikut:"
   ]
  },
  {
   "cell_type": "markdown",
   "id": "99af1534",
   "metadata": {},
   "source": [
    "## Distribusi statistik harga penjualan unit properti di NYC"
   ]
  },
  {
   "cell_type": "code",
   "execution_count": 33,
   "id": "66328e70",
   "metadata": {},
   "outputs": [
    {
     "data": {
      "text/plain": [
       "count    2.665500e+04\n",
       "mean     8.062293e+05\n",
       "std      6.452676e+05\n",
       "min      1.007000e+05\n",
       "25%      4.400000e+05\n",
       "50%      6.250000e+05\n",
       "75%      9.210510e+05\n",
       "max      4.975000e+06\n",
       "Name: SALE PRICE, dtype: float64"
      ]
     },
     "execution_count": 33,
     "metadata": {},
     "output_type": "execute_result"
    }
   ],
   "source": [
    "df_sales['SALE PRICE'].describe()"
   ]
  },
  {
   "cell_type": "code",
   "execution_count": 34,
   "id": "54c33042",
   "metadata": {},
   "outputs": [
    {
     "data": {
      "text/plain": [
       "0    700000.0\n",
       "Name: SALE PRICE, dtype: float64"
      ]
     },
     "execution_count": 34,
     "metadata": {},
     "output_type": "execute_result"
    }
   ],
   "source": [
    "# Nilai modus harga penjualan unit property di NYC\n",
    "df_sales['SALE PRICE'].mode()"
   ]
  },
  {
   "cell_type": "code",
   "execution_count": 35,
   "id": "d0213352",
   "metadata": {},
   "outputs": [
    {
     "data": {
      "image/png": "[encoded data removed]",
      "text/plain": [
       "<Figure size 1080x504 with 1 Axes>"
      ]
     },
     "metadata": {
      "needs_background": "light"
     },
     "output_type": "display_data"
    }
   ],
   "source": [
    "df_sales['SALE PRICE'].plot(kind='hist', figsize=(15,7), bins=100, color='g')\n",
    "plt.title(\"Distribusi Frekuensi Harga Penjualan Gedung di New York City (2016-2017)\", fontsize=15)\n",
    "plt.xlabel('Harga', fontsize=12)\n",
    "plt.ylabel('Frekuensi', fontsize=12)\n",
    "plt.axvline(df_sales['SALE PRICE'].mean(), c='red')\n",
    "plt.axvline(df_sales['SALE PRICE'].median(), c='blue')\n",
    "plt.axvline(df_sales['SALE PRICE'].mode()[0], c='black')\n",
    "plt.text(300000, 2000, 'median', fontsize=13)\n",
    "plt.text(850000, 1800, 'mean', fontsize=13)\n",
    "plt.text(700000, 1500, 'mode', fontsize=13)\n",
    "plt.grid(linewidth=0.5)"
   ]
  },
  {
   "cell_type": "markdown",
   "id": "531dd7cb",
   "metadata": {},
   "source": [
    "Berdasarkan plot diatas, dapat diketahui distribusi statistik harga penjualan properti di New York dimana frekuensi tertinggi harga prorerty dibawah 1.000.000 USD. Rata-rata harga penjualan property sebesar 800.000 USD, median harga penjualan property sebesar 625.000 USD, dan property di New York City paling banyak terjual di harga 700.000 USD. Selanjutnya akan dilihat ukuran penyebaran harga property berikut:"
   ]
  },
  {
   "cell_type": "code",
   "execution_count": 36,
   "id": "9033dd2b",
   "metadata": {},
   "outputs": [
    {
     "name": "stdout",
     "output_type": "stream",
     "text": [
      "Range:  4874300.0\n",
      "Variance:  416370292114.4177\n",
      "Standar Deviation:  645267.6127890022\n",
      "Skewness:  2.8223333167781344\n"
     ]
    }
   ],
   "source": [
    "print('Range: ', np.ptp(df_sales['SALE PRICE']))\n",
    "print('Variance: ', np.var(df_sales['SALE PRICE'], ddof=1))\n",
    "print('Standar Deviation: ', np.std(df_sales['SALE PRICE'], ddof=1))\n",
    "print('Skewness: ', scipy.stats.skew(df_sales['SALE PRICE'], bias=False))"
   ]
  },
  {
   "cell_type": "markdown",
   "id": "30b0f636",
   "metadata": {},
   "source": [
    "Diketahui bahwa nilai variance dan standar deviasi cukup besar, artinya data sangat bervariasi. Dalam kata lain, rata-rata jarak penyimpangan setiap titik data terhadap rata-ratanya sangat besar. Selain itu, harga penjualan property juga memiliki nilai _skewness_ atau kemiringan yang positif, yang berarti nilai rata-rata lebih besar dari nilai tengahnya. _Range_ atau selisih nilai maksimum dan minimumnya adalah 4.874.300 USD."
   ]
  },
  {
   "cell_type": "markdown",
   "id": "f02a22da",
   "metadata": {},
   "source": [
    "---\n",
    "### Apakah ada perbedaan nilai statistik harga penjualan berdasarkan wilayahnya (`BOROUGH`)"
   ]
  },
  {
   "cell_type": "code",
   "execution_count": 37,
   "id": "ca37d31b",
   "metadata": {},
   "outputs": [],
   "source": [
    "# Membuat tabel nilai rata-rata harga penjualan berdasarkan masing-masing borough\n",
    "df_borough = df_sales[['BOROUGH','SALE PRICE']]\n",
    "df_borough_mean = df_borough.groupby('BOROUGH').mean().sort_values(by='SALE PRICE', ascending=True).reset_index()"
   ]
  },
  {
   "cell_type": "code",
   "execution_count": 38,
   "id": "1c1646eb",
   "metadata": {},
   "outputs": [
    {
     "data": {
      "image/png": "[encoded data removed]",
      "text/plain": [
       "<Figure size 720x432 with 1 Axes>"
      ]
     },
     "metadata": {
      "needs_background": "light"
     },
     "output_type": "display_data"
    }
   ],
   "source": [
    "# Visualisasi menggunakan bar chart\n",
    "plt.figure(figsize=(10,6))\n",
    "sns.barplot(y ='BOROUGH', x ='SALE PRICE', data=df_borough_mean)\n",
    "plt.title('Rata-Rata Harga Penjualan Gedung berdasarkan Borough\\n',fontsize=15)\n",
    "plt.show()"
   ]
  },
  {
   "cell_type": "code",
   "execution_count": 39,
   "id": "e92731af",
   "metadata": {},
   "outputs": [
    {
     "data": {
      "image/png": "[encoded data removed]",
      "text/plain": [
       "<Figure size 720x432 with 1 Axes>"
      ]
     },
     "metadata": {
      "needs_background": "light"
     },
     "output_type": "display_data"
    }
   ],
   "source": [
    "# Visualisasi menggunakan box chart\n",
    "plt.figure(figsize=(10,6))\n",
    "sns.boxplot(y ='BOROUGH', x ='SALE PRICE', data=df_borough)\n",
    "plt.title('Box Plot Rata-Rata Harga Penjualan Gedung berdasarkan Borough\\n',fontsize=15)\n",
    "plt.show()"
   ]
  },
  {
   "cell_type": "markdown",
   "id": "3c4e181e",
   "metadata": {},
   "source": [
    "Berdasarkan plot di atas, diketahui bahwa wilayah Manhattan memiliki rata-rata harga penjualan properti tertinggi, sedangkan wilayah Staten Island memiliki rata-rata harga penjualan properti terendah. Sehingga dapat disimpulkan bahwa masing-masing wilayah memiliki perbedaan rata-rata harga penjualan properti, terutama pada wilayah Manhattan yang memiliki perbedaan rata-rata yang cukup signifikan dibandingkan wilayah lain. Berikut adalah nilai variance dan standar deviation masing-masing wilayah:"
   ]
  },
  {
   "cell_type": "code",
   "execution_count": 40,
   "id": "6841d9d6",
   "metadata": {},
   "outputs": [
    {
     "name": "stdout",
     "output_type": "stream",
     "text": [
      "Variance and Standar Deviation each Borough:\n",
      "\n",
      "Manhattan:  1506488719848.2815 and 1227391.0215771832\n",
      "Bronx:  330669796970.9491 and 575038.9525683883\n",
      "Brooklyn:  645118390901.685 and 803192.6237844102\n",
      "Queens:  206244526894.4386 and 454141.52738374256\n",
      "Staten Island:  75236840611.08807 and 274293.3477339326\n"
     ]
    }
   ],
   "source": [
    "# Membuat tabel nilai harga penjualan berdasarkan masing-masing borough\n",
    "df_manhattan = df_borough[df_borough['BOROUGH']=='Manhattan']\n",
    "df_bronx = df_borough[df_borough['BOROUGH']=='Bronx']\n",
    "df_brooklyn = df_borough[df_borough['BOROUGH']=='Brooklyn']\n",
    "df_queens = df_borough[df_borough['BOROUGH']=='Queens']\n",
    "df_staten = df_borough[df_borough['BOROUGH']=='Staten Island']\n",
    "\n",
    "# Menampilkan nilai varians dan standar deviasi masing-masing borough\n",
    "print(\"Variance and Standar Deviation each Borough:\\n\")\n",
    "print('Manhattan: ',np.var(df_manhattan['SALE PRICE'], ddof=1), 'and',np.std(df_manhattan['SALE PRICE'], ddof=1))\n",
    "print('Bronx: ',np.var(df_bronx['SALE PRICE'], ddof=1), 'and',np.std(df_bronx['SALE PRICE'], ddof=1))\n",
    "print('Brooklyn: ',np.var(df_brooklyn['SALE PRICE'], ddof=1), 'and',np.std(df_brooklyn['SALE PRICE'], ddof=1))\n",
    "print('Queens: ',np.var(df_queens['SALE PRICE'], ddof=1), 'and',np.std(df_queens['SALE PRICE'], ddof=1))\n",
    "print('Staten Island: ',np.var(df_staten['SALE PRICE'], ddof=1), 'and',np.std(df_staten['SALE PRICE'], ddof=1))"
   ]
  },
  {
   "cell_type": "code",
   "execution_count": 74,
   "id": "a5d41454",
   "metadata": {},
   "outputs": [
    {
     "data": {
      "text/plain": [
       "<seaborn.axisgrid.FacetGrid at 0x2115ffc4940>"
      ]
     },
     "execution_count": 74,
     "metadata": {},
     "output_type": "execute_result"
    },
    {
     "data": {
      "image/png": "[encoded data removed]",
      "text/plain": [
       "<Figure size 360x360 with 1 Axes>"
      ]
     },
     "metadata": {
      "needs_background": "light"
     },
     "output_type": "display_data"
    }
   ],
   "source": [
    "sns.displot(df_manhattan['SALE PRICE'], kde=True, bins=50)\n"
   ]
  },
  {
   "cell_type": "code",
   "execution_count": 73,
   "id": "b80116a4",
   "metadata": {},
   "outputs": [
    {
     "data": {
      "text/plain": [
       "<seaborn.axisgrid.FacetGrid at 0x211603b73a0>"
      ]
     },
     "execution_count": 73,
     "metadata": {},
     "output_type": "execute_result"
    },
    {
     "data": {
      "image/png": "[encoded data removed]",
      "text/plain": [
       "<Figure size 360x360 with 1 Axes>"
      ]
     },
     "metadata": {
      "needs_background": "light"
     },
     "output_type": "display_data"
    }
   ],
   "source": [
    "sns.displot(df_staten['SALE PRICE'], kde=True, bins=50)"
   ]
  },
  {
   "cell_type": "code",
   "execution_count": 72,
   "id": "ea090144",
   "metadata": {},
   "outputs": [
    {
     "data": {
      "text/plain": [
       "<seaborn.axisgrid.FacetGrid at 0x211602822e0>"
      ]
     },
     "execution_count": 72,
     "metadata": {},
     "output_type": "execute_result"
    },
    {
     "data": {
      "image/png": "[encoded data removed]",
      "text/plain": [
       "<Figure size 360x360 with 1 Axes>"
      ]
     },
     "metadata": {
      "needs_background": "light"
     },
     "output_type": "display_data"
    }
   ],
   "source": [
    "sns.displot(df_queens['SALE PRICE'], kde=True, bins=50)\n"
   ]
  },
  {
   "cell_type": "code",
   "execution_count": 71,
   "id": "805dbdea",
   "metadata": {},
   "outputs": [
    {
     "data": {
      "text/plain": [
       "<seaborn.axisgrid.FacetGrid at 0x211603bec10>"
      ]
     },
     "execution_count": 71,
     "metadata": {},
     "output_type": "execute_result"
    },
    {
     "data": {
      "image/png": "[encoded data removed]",
      "text/plain": [
       "<Figure size 360x360 with 1 Axes>"
      ]
     },
     "metadata": {
      "needs_background": "light"
     },
     "output_type": "display_data"
    }
   ],
   "source": [
    "sns.displot(df_brooklyn['SALE PRICE'], kde=True, bins=50)\n"
   ]
  },
  {
   "cell_type": "code",
   "execution_count": 70,
   "id": "369aa017",
   "metadata": {},
   "outputs": [
    {
     "data": {
      "text/plain": [
       "<seaborn.axisgrid.FacetGrid at 0x2115ec4edc0>"
      ]
     },
     "execution_count": 70,
     "metadata": {},
     "output_type": "execute_result"
    },
    {
     "data": {
      "image/png": "[encoded data removed]",
      "text/plain": [
       "<Figure size 360x360 with 1 Axes>"
      ]
     },
     "metadata": {
      "needs_background": "light"
     },
     "output_type": "display_data"
    }
   ],
   "source": [
    "sns.displot(df_bronx['SALE PRICE'], kde=True, bins=50)\n"
   ]
  },
  {
   "cell_type": "markdown",
   "id": "b88fe153",
   "metadata": {},
   "source": [
    "Berdasarkan output di atas, diketahui secara grafis bahwa wilayah `Bronx`, `Brooklyn`, `Queens`, dan `Staten Island` tidak memiliki perbedaan distribusi frekuensi nilai harga penjualan properti yang signifikan. Sedangkan wilayah `Manhattan` memiliki distribusi frekuensi yang berbeda dengan wilayah lain. Dilihat dari nilai statistik varians dan standar deviasi, wilayah `Manhattan` memiliki nilai varians dan standar deviasi tertinggi, yang berarti nilai harga penjualan properti di `Manhattan` sangat bervariasi dibandingkan dengan daerah lain."
   ]
  },
  {
   "cell_type": "markdown",
   "id": "b026c166",
   "metadata": {},
   "source": [
    "---\n",
    "## Apakah ada perbedaan nilai statistik harga penjualan unit berdasarkan kategori kelas bangunannya(`BUILDING CLASS CATEGORY`)?"
   ]
  },
  {
   "cell_type": "code",
   "execution_count": 42,
   "id": "f2c9fb9c",
   "metadata": {},
   "outputs": [
    {
     "data": {
      "text/plain": [
       "24"
      ]
     },
     "execution_count": 42,
     "metadata": {},
     "output_type": "execute_result"
    }
   ],
   "source": [
    "df_sales['BUILDING CLASS CATEGORY'].nunique()"
   ]
  },
  {
   "cell_type": "markdown",
   "id": "777d6a9b",
   "metadata": {},
   "source": [
    "Diketahui terdapat 24 kategori kelas bangunan dalam dataset. Akan dilihat kategori kelas yang memiliki rata-rata harga penjualan properti tertinggi."
   ]
  },
  {
   "cell_type": "code",
   "execution_count": 43,
   "id": "f986ab2b",
   "metadata": {},
   "outputs": [
    {
     "data": {
      "text/html": [
       "<div>\n",
       "<style scoped>\n",
       "    .dataframe tbody tr th:only-of-type {\n",
       "        vertical-align: middle;\n",
       "    }\n",
       "\n",
       "    .dataframe tbody tr th {\n",
       "        vertical-align: top;\n",
       "    }\n",
       "\n",
       "    .dataframe thead th {\n",
       "        text-align: right;\n",
       "    }\n",
       "</style>\n",
       "<table border=\"1\" class=\"dataframe\">\n",
       "  <thead>\n",
       "    <tr style=\"text-align: right;\">\n",
       "      <th></th>\n",
       "      <th>SALE PRICE</th>\n",
       "    </tr>\n",
       "    <tr>\n",
       "      <th>BUILDING CLASS CATEGORY</th>\n",
       "      <th></th>\n",
       "    </tr>\n",
       "  </thead>\n",
       "  <tbody>\n",
       "    <tr>\n",
       "      <th>09 COOPS - WALKUP APARTMENTS</th>\n",
       "      <td>3.062000e+05</td>\n",
       "    </tr>\n",
       "    <tr>\n",
       "      <th>10 COOPS - ELEVATOR APARTMENTS</th>\n",
       "      <td>3.750987e+05</td>\n",
       "    </tr>\n",
       "    <tr>\n",
       "      <th>01 ONE FAMILY DWELLINGS</th>\n",
       "      <td>6.228320e+05</td>\n",
       "    </tr>\n",
       "    <tr>\n",
       "      <th>31 COMMERCIAL VACANT LAND</th>\n",
       "      <td>6.500000e+05</td>\n",
       "    </tr>\n",
       "    <tr>\n",
       "      <th>06 TAX CLASS 1 - OTHER</th>\n",
       "      <td>7.508050e+05</td>\n",
       "    </tr>\n",
       "    <tr>\n",
       "      <th>05 TAX CLASS 1 VACANT LAND</th>\n",
       "      <td>7.670202e+05</td>\n",
       "    </tr>\n",
       "    <tr>\n",
       "      <th>02 TWO FAMILY DWELLINGS</th>\n",
       "      <td>7.792700e+05</td>\n",
       "    </tr>\n",
       "    <tr>\n",
       "      <th>03 THREE FAMILY DWELLINGS</th>\n",
       "      <td>9.741453e+05</td>\n",
       "    </tr>\n",
       "    <tr>\n",
       "      <th>33 EDUCATIONAL FACILITIES</th>\n",
       "      <td>1.217917e+06</td>\n",
       "    </tr>\n",
       "    <tr>\n",
       "      <th>26 OTHER HOTELS</th>\n",
       "      <td>1.253338e+06</td>\n",
       "    </tr>\n",
       "  </tbody>\n",
       "</table>\n",
       "</div>"
      ],
      "text/plain": [
       "                                               SALE PRICE\n",
       "BUILDING CLASS CATEGORY                                  \n",
       "09 COOPS - WALKUP APARTMENTS                 3.062000e+05\n",
       "10 COOPS - ELEVATOR APARTMENTS               3.750987e+05\n",
       "01 ONE FAMILY DWELLINGS                      6.228320e+05\n",
       "31 COMMERCIAL VACANT LAND                    6.500000e+05\n",
       "06 TAX CLASS 1 - OTHER                       7.508050e+05\n",
       "05 TAX CLASS 1 VACANT LAND                   7.670202e+05\n",
       "02 TWO FAMILY DWELLINGS                      7.792700e+05\n",
       "03 THREE FAMILY DWELLINGS                    9.741453e+05\n",
       "33 EDUCATIONAL FACILITIES                    1.217917e+06\n",
       "26 OTHER HOTELS                              1.253338e+06"
      ]
     },
     "execution_count": 43,
     "metadata": {},
     "output_type": "execute_result"
    }
   ],
   "source": [
    "df_buildClass = df_sales[['BUILDING CLASS CATEGORY','SALE PRICE']]\n",
    "\n",
    "# Top 10 \n",
    "top10BuildClass = df_buildClass.groupby('BUILDING CLASS CATEGORY').mean().sort_values(by='SALE PRICE', ascending=True)\n",
    "top10BuildClass = top10BuildClass.head(10)\n",
    "top10BuildClass"
   ]
  },
  {
   "cell_type": "code",
   "execution_count": 44,
   "id": "0bffe783",
   "metadata": {},
   "outputs": [
    {
     "data": {
      "text/plain": [
       "Text(0.5, 1.0, '10 Kategori Kelas Bangunan dengan Rata-rata Harga Penjualan Tertinggi')"
      ]
     },
     "execution_count": 44,
     "metadata": {},
     "output_type": "execute_result"
    },
    {
     "data": {
      "image/png": "[encoded data removed]",
      "text/plain": [
       "<Figure size 1080x504 with 1 Axes>"
      ]
     },
     "metadata": {
      "needs_background": "light"
     },
     "output_type": "display_data"
    }
   ],
   "source": [
    "top10BuildClass.plot(kind='barh', figsize=(15,7), color='g')\n",
    "plt.title('10 Kategori Kelas Bangunan dengan Rata-rata Harga Penjualan Tertinggi')"
   ]
  },
  {
   "cell_type": "markdown",
   "id": "7762ed33",
   "metadata": {},
   "source": [
    "Berdasarkan plot di atas, diketahui bahwa kategori **OTHER HOTELS** memiliki rata-rata harga penjualan tertinggi, diikuti dengan kategori **EDUCATIONAL FACILITIES**, **THREE FAMILY DWELLINGS**, dan lainnya. Sehingga dapat disimpulkan bahwa kategori kelas bangunan mempengaruhi variasi rata-rata harga penjualan bangunan tersebut."
   ]
  },
  {
   "cell_type": "code",
   "execution_count": 45,
   "id": "422a3f34",
   "metadata": {},
   "outputs": [
    {
     "data": {
      "text/plain": [
       "'01 ONE FAMILY DWELLINGS                    '"
      ]
     },
     "execution_count": 45,
     "metadata": {},
     "output_type": "execute_result"
    }
   ],
   "source": [
    "df_sales['BUILDING CLASS CATEGORY'].mode()[0]"
   ]
  },
  {
   "cell_type": "markdown",
   "id": "7d394544",
   "metadata": {},
   "source": [
    "Diketahui bahwa kategori kelas bangunan dengan jumlah penjualan terbanyak adalah kategori **ONE FAMILY DWELLINGS**."
   ]
  },
  {
   "cell_type": "markdown",
   "id": "b869ddc2",
   "metadata": {},
   "source": [
    "---\n",
    "## Distribusi statistik ukuran luas tanah properti (`GROSS SQUARE FEET & LAND SQUARE FEET`)"
   ]
  },
  {
   "cell_type": "code",
   "execution_count": 46,
   "id": "9adb7482",
   "metadata": {},
   "outputs": [
    {
     "data": {
      "text/html": [
       "<div>\n",
       "<style scoped>\n",
       "    .dataframe tbody tr th:only-of-type {\n",
       "        vertical-align: middle;\n",
       "    }\n",
       "\n",
       "    .dataframe tbody tr th {\n",
       "        vertical-align: top;\n",
       "    }\n",
       "\n",
       "    .dataframe thead th {\n",
       "        text-align: right;\n",
       "    }\n",
       "</style>\n",
       "<table border=\"1\" class=\"dataframe\">\n",
       "  <thead>\n",
       "    <tr style=\"text-align: right;\">\n",
       "      <th></th>\n",
       "      <th>GROSS SQUARE FEET</th>\n",
       "      <th>LAND SQUARE FEET</th>\n",
       "    </tr>\n",
       "  </thead>\n",
       "  <tbody>\n",
       "    <tr>\n",
       "      <th>0</th>\n",
       "      <td>6794.0</td>\n",
       "      <td>2272.0</td>\n",
       "    </tr>\n",
       "    <tr>\n",
       "      <th>1</th>\n",
       "      <td>4226.0</td>\n",
       "      <td>1750.0</td>\n",
       "    </tr>\n",
       "    <tr>\n",
       "      <th>2</th>\n",
       "      <td>3360.0</td>\n",
       "      <td>1520.0</td>\n",
       "    </tr>\n",
       "    <tr>\n",
       "      <th>3</th>\n",
       "      <td>3713.0</td>\n",
       "      <td>1779.0</td>\n",
       "    </tr>\n",
       "    <tr>\n",
       "      <th>4</th>\n",
       "      <td>3586.0</td>\n",
       "      <td>1218.0</td>\n",
       "    </tr>\n",
       "  </tbody>\n",
       "</table>\n",
       "</div>"
      ],
      "text/plain": [
       "   GROSS SQUARE FEET  LAND SQUARE FEET\n",
       "0             6794.0            2272.0\n",
       "1             4226.0            1750.0\n",
       "2             3360.0            1520.0\n",
       "3             3713.0            1779.0\n",
       "4             3586.0            1218.0"
      ]
     },
     "execution_count": 46,
     "metadata": {},
     "output_type": "execute_result"
    }
   ],
   "source": [
    "df_sqf = df_sales[['GROSS SQUARE FEET','LAND SQUARE FEET']]\n",
    "df_sqf.head()"
   ]
  },
  {
   "cell_type": "code",
   "execution_count": 47,
   "id": "94c138d7",
   "metadata": {},
   "outputs": [
    {
     "data": {
      "text/html": [
       "<div>\n",
       "<style scoped>\n",
       "    .dataframe tbody tr th:only-of-type {\n",
       "        vertical-align: middle;\n",
       "    }\n",
       "\n",
       "    .dataframe tbody tr th {\n",
       "        vertical-align: top;\n",
       "    }\n",
       "\n",
       "    .dataframe thead th {\n",
       "        text-align: right;\n",
       "    }\n",
       "</style>\n",
       "<table border=\"1\" class=\"dataframe\">\n",
       "  <thead>\n",
       "    <tr style=\"text-align: right;\">\n",
       "      <th></th>\n",
       "      <th>GROSS SQUARE FEET</th>\n",
       "      <th>LAND SQUARE FEET</th>\n",
       "    </tr>\n",
       "  </thead>\n",
       "  <tbody>\n",
       "    <tr>\n",
       "      <th>count</th>\n",
       "      <td>2.665500e+04</td>\n",
       "      <td>2.665500e+04</td>\n",
       "    </tr>\n",
       "    <tr>\n",
       "      <th>mean</th>\n",
       "      <td>2.686305e+03</td>\n",
       "      <td>3.603452e+03</td>\n",
       "    </tr>\n",
       "    <tr>\n",
       "      <th>std</th>\n",
       "      <td>2.520718e+04</td>\n",
       "      <td>3.212287e+04</td>\n",
       "    </tr>\n",
       "    <tr>\n",
       "      <th>min</th>\n",
       "      <td>1.200000e+02</td>\n",
       "      <td>2.000000e+02</td>\n",
       "    </tr>\n",
       "    <tr>\n",
       "      <th>25%</th>\n",
       "      <td>1.344000e+03</td>\n",
       "      <td>2.000000e+03</td>\n",
       "    </tr>\n",
       "    <tr>\n",
       "      <th>50%</th>\n",
       "      <td>1.813000e+03</td>\n",
       "      <td>2.500000e+03</td>\n",
       "    </tr>\n",
       "    <tr>\n",
       "      <th>75%</th>\n",
       "      <td>2.505000e+03</td>\n",
       "      <td>3.840000e+03</td>\n",
       "    </tr>\n",
       "    <tr>\n",
       "      <th>max</th>\n",
       "      <td>3.750565e+06</td>\n",
       "      <td>4.228300e+06</td>\n",
       "    </tr>\n",
       "  </tbody>\n",
       "</table>\n",
       "</div>"
      ],
      "text/plain": [
       "       GROSS SQUARE FEET  LAND SQUARE FEET\n",
       "count       2.665500e+04      2.665500e+04\n",
       "mean        2.686305e+03      3.603452e+03\n",
       "std         2.520718e+04      3.212287e+04\n",
       "min         1.200000e+02      2.000000e+02\n",
       "25%         1.344000e+03      2.000000e+03\n",
       "50%         1.813000e+03      2.500000e+03\n",
       "75%         2.505000e+03      3.840000e+03\n",
       "max         3.750565e+06      4.228300e+06"
      ]
     },
     "execution_count": 47,
     "metadata": {},
     "output_type": "execute_result"
    }
   ],
   "source": [
    "df_sqf.describe()"
   ]
  },
  {
   "cell_type": "markdown",
   "id": "54d7650e",
   "metadata": {},
   "source": [
    "Perlu diperhatikan bahwa masih terdapat nilai outlier yang tidak dapat disertakan dalam analisis. Nilai luas lahan seluruhnya dan luas bangunan properti yang lebih besar dari nilai statistik kuartil-3 dianggap sebagai outlier dan tidak disertakan dalam analisis."
   ]
  },
  {
   "cell_type": "code",
   "execution_count": 48,
   "id": "97f54731",
   "metadata": {},
   "outputs": [],
   "source": [
    "df_sqf = df_sqf[df_sqf['GROSS SQUARE FEET'] < 3000]\n",
    "df_sqf = df_sqf[df_sqf['LAND SQUARE FEET'] < 4000]"
   ]
  },
  {
   "cell_type": "code",
   "execution_count": 49,
   "id": "e84648fe",
   "metadata": {},
   "outputs": [
    {
     "name": "stdout",
     "output_type": "stream",
     "text": [
      "Nilai modus kolom GROSS SQUARE FEET: 1600.0\n",
      "Nilai modus kolom LAND SQUARE FEET: 2000.0\n"
     ]
    }
   ],
   "source": [
    "#nilai modus\n",
    "print('Nilai modus kolom GROSS SQUARE FEET:', df_sqf['GROSS SQUARE FEET'].mode()[0])\n",
    "print('Nilai modus kolom LAND SQUARE FEET:', df_sqf['LAND SQUARE FEET'].mode()[0]) "
   ]
  },
  {
   "cell_type": "code",
   "execution_count": 50,
   "id": "30836ee9",
   "metadata": {},
   "outputs": [
    {
     "data": {
      "text/plain": [
       "<Figure size 864x504 with 0 Axes>"
      ]
     },
     "execution_count": 50,
     "metadata": {},
     "output_type": "execute_result"
    },
    {
     "data": {
      "image/png": "[encoded data removed]",
      "text/plain": [
       "<Figure size 360x360 with 1 Axes>"
      ]
     },
     "metadata": {
      "needs_background": "light"
     },
     "output_type": "display_data"
    },
    {
     "data": {
      "image/png": "[encoded data removed]",
      "text/plain": [
       "<Figure size 360x360 with 1 Axes>"
      ]
     },
     "metadata": {
      "needs_background": "light"
     },
     "output_type": "display_data"
    },
    {
     "data": {
      "text/plain": [
       "<Figure size 864x504 with 0 Axes>"
      ]
     },
     "metadata": {},
     "output_type": "display_data"
    }
   ],
   "source": [
    "sns.displot(df_sqf['GROSS SQUARE FEET'],kde=True, bins=50)\n",
    "sns.displot(df_sqf['LAND SQUARE FEET'],kde=True, bins=50)\n",
    "plt.figure(figsize=(12,7))"
   ]
  },
  {
   "cell_type": "markdown",
   "id": "c47e7e2b",
   "metadata": {},
   "source": [
    "Berdasarkan *output* di atas diketahui bahwa rata-rata luas bangunan properti yang terjual di NYC adalah sekitar 3600 sq feet, dengan rata-rata luas lahan seluruhnya di NYC adalah 2680 sq feet. Dalam plot distribusi frekuensi yang ditunjukkan kedua kolom memiliki pola distribusi yang berbeda. Di mana ukuran luas keseluruhan properti di NYC kebanyakan ada di sekitar 1600 sq feet dan ukuran luas bangunan di NYC kebanyakan ada di sekitar 2000 sq feet.\n",
    "\n",
    "Namun, perlu menjadi catatan juga bahwa `GROSS SQUARE FEET` adalah ukuran luas lahan seluruhnya dan `LAND SQUARE FEET` adalah luas bangunan. Berarti nilai `LAND SQUARE FEET` kemungkinan tidak akan lebih besar dari `GROSS SQUARE FEET`."
   ]
  },
  {
   "cell_type": "code",
   "execution_count": 51,
   "id": "db0f4904",
   "metadata": {},
   "outputs": [
    {
     "name": "stdout",
     "output_type": "stream",
     "text": [
      "Variance and Standar Deviation:\n",
      "\n",
      "GROSS SQUARE FEET:  289902.6530211974 and 538.4260887263891\n",
      "LAND SQUARE FEET:  419957.567071179 and 648.0413312985361\n"
     ]
    }
   ],
   "source": [
    "# Menampilkan nilai varians dan standar deviasi\n",
    "print('Variance and Standar Deviation:\\n')\n",
    "print('GROSS SQUARE FEET: ', np.var(df_sqf['GROSS SQUARE FEET'], ddof=1), 'and', np.std(df_sqf['GROSS SQUARE FEET'],ddof=1))\n",
    "print('LAND SQUARE FEET: ', np.var(df_sqf['LAND SQUARE FEET'], ddof=1), 'and', np.std(df_sqf['LAND SQUARE FEET'],ddof=1))"
   ]
  },
  {
   "cell_type": "markdown",
   "id": "4a674d6b",
   "metadata": {},
   "source": [
    "Diketahui nilai varians dan standar deviasi masing-masing kolom berdasarkan *output* di atas. Nilai varians `GROSS SQUARE FEET` atau ukuran luas lahan properti seluruhnya adalah 289902.65 dengan standar deviasi sebesar 538.43. Angka ini cenderung cukup besar sehingga dapat diartikan bahwa ukuran luas lahan properti seluruhnya di NYC sangat bervariasi. Selain itu, kolom `LAND SQUARE FEET` atau ukuran luas lahan bangunan properti memiliki nilai varians sebesar 419957.57 dengan standar deviasi sebesar 648.04, yang berarti bahwa ukuran luas lahan bangunan properti di NYC sangat bervariasi (cenderung lebih bervariasi dibanding dengan ukuran luas lahan properti seluruhnya). Dalam kata lain, rata-rata jarak penyimpangan setiap titik data terhadap rata-ratanya sangat besar."
   ]
  },
  {
   "cell_type": "code",
   "execution_count": 52,
   "id": "a032f3e4",
   "metadata": {},
   "outputs": [
    {
     "name": "stdout",
     "output_type": "stream",
     "text": [
      "GROSS SQUARE FEET\n",
      "\n",
      "Range:  2849.0\n",
      "Variance:  289885.72044406866\n",
      "Standar Deviation:  538.4103643542429\n",
      "Skewness:  0.37915125537770444\n",
      "\n",
      "----------------------------------------------\n",
      "\n",
      "LAND SQUARE FEET\n",
      "\n",
      "Range:  3798.0\n",
      "Variance:  419933.0382722145\n",
      "Standar Deviation:  648.0224056868825\n",
      "Skewness:  0.30956225999203935\n"
     ]
    }
   ],
   "source": [
    "print('GROSS SQUARE FEET\\n')\n",
    "print('Range: ', np.ptp(df_sqf['GROSS SQUARE FEET']))\n",
    "print('Variance: ', np.var(df_sqf['GROSS SQUARE FEET']))\n",
    "print('Standar Deviation: ', np.std(df_sqf['GROSS SQUARE FEET']))\n",
    "print('Skewness: ', scipy.stats.skew(df_sqf['GROSS SQUARE FEET'], bias=False))\n",
    "\n",
    "print('\\n----------------------------------------------\\n')\n",
    "\n",
    "print('LAND SQUARE FEET\\n')\n",
    "print('Range: ', np.ptp(df_sqf['LAND SQUARE FEET']))\n",
    "print('Variance: ', np.var(df_sqf['LAND SQUARE FEET']))\n",
    "print('Standar Deviation: ', np.std(df_sqf['LAND SQUARE FEET']))\n",
    "print('Skewness: ', scipy.stats.skew(df_sqf['LAND SQUARE FEET'], bias=False))"
   ]
  },
  {
   "cell_type": "markdown",
   "id": "83e0e6e4",
   "metadata": {},
   "source": [
    "----\n",
    "## Apakah ada perbedaan rata-rata luas lahan berdasarkan wilayahnya (`BOROUGH`)?"
   ]
  },
  {
   "cell_type": "code",
   "execution_count": 53,
   "id": "73972ac5",
   "metadata": {},
   "outputs": [
    {
     "data": {
      "text/html": [
       "<div>\n",
       "<style scoped>\n",
       "    .dataframe tbody tr th:only-of-type {\n",
       "        vertical-align: middle;\n",
       "    }\n",
       "\n",
       "    .dataframe tbody tr th {\n",
       "        vertical-align: top;\n",
       "    }\n",
       "\n",
       "    .dataframe thead th {\n",
       "        text-align: right;\n",
       "    }\n",
       "</style>\n",
       "<table border=\"1\" class=\"dataframe\">\n",
       "  <thead>\n",
       "    <tr style=\"text-align: right;\">\n",
       "      <th></th>\n",
       "      <th>BOROUGH</th>\n",
       "      <th>GROSS SQUARE FEET</th>\n",
       "      <th>LAND SQUARE FEET</th>\n",
       "    </tr>\n",
       "  </thead>\n",
       "  <tbody>\n",
       "    <tr>\n",
       "      <th>0</th>\n",
       "      <td>Manhattan</td>\n",
       "      <td>6794.0</td>\n",
       "      <td>2272.0</td>\n",
       "    </tr>\n",
       "    <tr>\n",
       "      <th>1</th>\n",
       "      <td>Manhattan</td>\n",
       "      <td>4226.0</td>\n",
       "      <td>1750.0</td>\n",
       "    </tr>\n",
       "    <tr>\n",
       "      <th>2</th>\n",
       "      <td>Manhattan</td>\n",
       "      <td>3360.0</td>\n",
       "      <td>1520.0</td>\n",
       "    </tr>\n",
       "    <tr>\n",
       "      <th>3</th>\n",
       "      <td>Manhattan</td>\n",
       "      <td>3713.0</td>\n",
       "      <td>1779.0</td>\n",
       "    </tr>\n",
       "    <tr>\n",
       "      <th>4</th>\n",
       "      <td>Manhattan</td>\n",
       "      <td>3586.0</td>\n",
       "      <td>1218.0</td>\n",
       "    </tr>\n",
       "  </tbody>\n",
       "</table>\n",
       "</div>"
      ],
      "text/plain": [
       "     BOROUGH  GROSS SQUARE FEET  LAND SQUARE FEET\n",
       "0  Manhattan             6794.0            2272.0\n",
       "1  Manhattan             4226.0            1750.0\n",
       "2  Manhattan             3360.0            1520.0\n",
       "3  Manhattan             3713.0            1779.0\n",
       "4  Manhattan             3586.0            1218.0"
      ]
     },
     "execution_count": 53,
     "metadata": {},
     "output_type": "execute_result"
    }
   ],
   "source": [
    "df_sqf_brgh = df_sales[['BOROUGH','GROSS SQUARE FEET','LAND SQUARE FEET']]\n",
    "df_sqf_brgh.head()"
   ]
  },
  {
   "cell_type": "code",
   "execution_count": 54,
   "id": "806d71d9",
   "metadata": {},
   "outputs": [
    {
     "data": {
      "text/html": [
       "<div>\n",
       "<style scoped>\n",
       "    .dataframe tbody tr th:only-of-type {\n",
       "        vertical-align: middle;\n",
       "    }\n",
       "\n",
       "    .dataframe tbody tr th {\n",
       "        vertical-align: top;\n",
       "    }\n",
       "\n",
       "    .dataframe thead th {\n",
       "        text-align: right;\n",
       "    }\n",
       "</style>\n",
       "<table border=\"1\" class=\"dataframe\">\n",
       "  <thead>\n",
       "    <tr style=\"text-align: right;\">\n",
       "      <th></th>\n",
       "      <th>BOROUGH</th>\n",
       "      <th>GROSS SQUARE FEET</th>\n",
       "      <th>LAND SQUARE FEET</th>\n",
       "    </tr>\n",
       "  </thead>\n",
       "  <tbody>\n",
       "    <tr>\n",
       "      <th>0</th>\n",
       "      <td>Manhattan</td>\n",
       "      <td>13058.794788</td>\n",
       "      <td>2786.459283</td>\n",
       "    </tr>\n",
       "    <tr>\n",
       "      <th>1</th>\n",
       "      <td>Bronx</td>\n",
       "      <td>3005.777088</td>\n",
       "      <td>3126.293698</td>\n",
       "    </tr>\n",
       "    <tr>\n",
       "      <th>2</th>\n",
       "      <td>Brooklyn</td>\n",
       "      <td>2766.910029</td>\n",
       "      <td>2661.175863</td>\n",
       "    </tr>\n",
       "    <tr>\n",
       "      <th>3</th>\n",
       "      <td>Queens</td>\n",
       "      <td>2447.540890</td>\n",
       "      <td>3761.648876</td>\n",
       "    </tr>\n",
       "    <tr>\n",
       "      <th>4</th>\n",
       "      <td>Staten Island</td>\n",
       "      <td>2199.338238</td>\n",
       "      <td>5163.624041</td>\n",
       "    </tr>\n",
       "  </tbody>\n",
       "</table>\n",
       "</div>"
      ],
      "text/plain": [
       "         BOROUGH  GROSS SQUARE FEET  LAND SQUARE FEET\n",
       "0      Manhattan       13058.794788       2786.459283\n",
       "1          Bronx        3005.777088       3126.293698\n",
       "2       Brooklyn        2766.910029       2661.175863\n",
       "3         Queens        2447.540890       3761.648876\n",
       "4  Staten Island        2199.338238       5163.624041"
      ]
     },
     "execution_count": 54,
     "metadata": {},
     "output_type": "execute_result"
    }
   ],
   "source": [
    "df_sqf_brgh = df_sqf_brgh.groupby('BOROUGH').mean().reset_index()\n",
    "df_sqf_brgh"
   ]
  },
  {
   "cell_type": "code",
   "execution_count": 55,
   "id": "1cb441eb",
   "metadata": {},
   "outputs": [
    {
     "data": {
      "image/png": "[encoded data removed]",
      "text/plain": [
       "<Figure size 720x432 with 1 Axes>"
      ]
     },
     "metadata": {
      "needs_background": "light"
     },
     "output_type": "display_data"
    }
   ],
   "source": [
    "# Visualisasi bar chart\n",
    "plt.figure(figsize=(10,6))\n",
    "sns.barplot(y = 'BOROUGH', x = 'GROSS SQUARE FEET', data=df_sqf_brgh)\n",
    "plt.title(\"Rata-rata Ukuran Lahan Properti di NYC berdasarkan Borough\")\n",
    "plt.show()"
   ]
  },
  {
   "cell_type": "code",
   "execution_count": 56,
   "id": "467fcc1f",
   "metadata": {},
   "outputs": [
    {
     "data": {
      "image/png": "[encoded data removed]",
      "text/plain": [
       "<Figure size 720x432 with 1 Axes>"
      ]
     },
     "metadata": {
      "needs_background": "light"
     },
     "output_type": "display_data"
    }
   ],
   "source": [
    "# Visualisasi bar chart\n",
    "plt.figure(figsize=(10,6))\n",
    "sns.barplot(y = 'BOROUGH', x = 'LAND SQUARE FEET', data=df_sqf_brgh)\n",
    "plt.title(\"Rata-rata Ukuran Lahan Properti di NYC berdasarkan Borough\")\n",
    "plt.show()"
   ]
  },
  {
   "cell_type": "markdown",
   "id": "8fa4692c",
   "metadata": {},
   "source": [
    "Berdasarkan kedua plot di atas, diketahui bahwa rata-rata luas lahan keseluruhan properti tertinggi adalah di wilayah Manhattan dibandingkan dengan wilayah lain, sedangkan Staten Island memiliki rata-rata luas lahan keseluruhan properti terendah. Selain itu untuk rata-rata luas bangunan properti tertinggi adalah di Staten Island, dan yang terendah adalah di Brooklyn. Hal ini memunculkan asumsi bahwa luas lahan keseluruhan mempengaruhi harga jual properti tersebut."
   ]
  },
  {
   "cell_type": "markdown",
   "id": "9a1f6760",
   "metadata": {},
   "source": [
    "---\n",
    "## Apakah ada perbedaan jumlah properti yang terjual dan harga terjualnya berdasarkan daerah di sekitarnya (`NEIGHBORHOOD`)?"
   ]
  },
  {
   "cell_type": "code",
   "execution_count": 60,
   "id": "d86ee9a4",
   "metadata": {},
   "outputs": [],
   "source": [
    "df_neighborhood = df_sales[['NEIGHBORHOOD','SALE PRICE']]"
   ]
  },
  {
   "cell_type": "code",
   "execution_count": 61,
   "id": "a8baea3c",
   "metadata": {},
   "outputs": [
    {
     "data": {
      "text/html": [
       "<div>\n",
       "<style scoped>\n",
       "    .dataframe tbody tr th:only-of-type {\n",
       "        vertical-align: middle;\n",
       "    }\n",
       "\n",
       "    .dataframe tbody tr th {\n",
       "        vertical-align: top;\n",
       "    }\n",
       "\n",
       "    .dataframe thead th {\n",
       "        text-align: right;\n",
       "    }\n",
       "</style>\n",
       "<table border=\"1\" class=\"dataframe\">\n",
       "  <thead>\n",
       "    <tr style=\"text-align: right;\">\n",
       "      <th></th>\n",
       "      <th>SALE PRICE</th>\n",
       "    </tr>\n",
       "    <tr>\n",
       "      <th>NEIGHBORHOOD</th>\n",
       "      <th></th>\n",
       "    </tr>\n",
       "  </thead>\n",
       "  <tbody>\n",
       "    <tr>\n",
       "      <th>FLUSHING-NORTH</th>\n",
       "      <td>759</td>\n",
       "    </tr>\n",
       "    <tr>\n",
       "      <th>EAST NEW YORK</th>\n",
       "      <td>558</td>\n",
       "    </tr>\n",
       "    <tr>\n",
       "      <th>BEDFORD STUYVESANT</th>\n",
       "      <td>557</td>\n",
       "    </tr>\n",
       "    <tr>\n",
       "      <th>GREAT KILLS</th>\n",
       "      <td>461</td>\n",
       "    </tr>\n",
       "    <tr>\n",
       "      <th>SO. JAMAICA-BAISLEY PARK</th>\n",
       "      <td>448</td>\n",
       "    </tr>\n",
       "    <tr>\n",
       "      <th>FLATBUSH-EAST</th>\n",
       "      <td>446</td>\n",
       "    </tr>\n",
       "    <tr>\n",
       "      <th>RICHMOND HILL</th>\n",
       "      <td>441</td>\n",
       "    </tr>\n",
       "    <tr>\n",
       "      <th>BAYSIDE</th>\n",
       "      <td>418</td>\n",
       "    </tr>\n",
       "    <tr>\n",
       "      <th>ST. ALBANS</th>\n",
       "      <td>405</td>\n",
       "    </tr>\n",
       "    <tr>\n",
       "      <th>CANARSIE</th>\n",
       "      <td>385</td>\n",
       "    </tr>\n",
       "  </tbody>\n",
       "</table>\n",
       "</div>"
      ],
      "text/plain": [
       "                          SALE PRICE\n",
       "NEIGHBORHOOD                        \n",
       "FLUSHING-NORTH                   759\n",
       "EAST NEW YORK                    558\n",
       "BEDFORD STUYVESANT               557\n",
       "GREAT KILLS                      461\n",
       "SO. JAMAICA-BAISLEY PARK         448\n",
       "FLATBUSH-EAST                    446\n",
       "RICHMOND HILL                    441\n",
       "BAYSIDE                          418\n",
       "ST. ALBANS                       405\n",
       "CANARSIE                         385"
      ]
     },
     "execution_count": 61,
     "metadata": {},
     "output_type": "execute_result"
    }
   ],
   "source": [
    "df_neighborhood = df_neighborhood.groupby('NEIGHBORHOOD').count().sort_values(by='SALE PRICE', ascending=False)\n",
    "df_neighborhood = df_neighborhood.head(10)\n",
    "df_neighborhood"
   ]
  },
  {
   "cell_type": "code",
   "execution_count": 62,
   "id": "0f212bec",
   "metadata": {},
   "outputs": [
    {
     "data": {
      "image/png": "[encoded data removed]",
      "text/plain": [
       "<Figure size 864x360 with 1 Axes>"
      ]
     },
     "metadata": {
      "needs_background": "light"
     },
     "output_type": "display_data"
    }
   ],
   "source": [
    "# Visualisasi\n",
    "df_neighborhood = df_neighborhood.sort_values(by='SALE PRICE')\n",
    "df_neighborhood.plot(kind='barh',figsize=(12,5),color='maroon',alpha=0.5)\n",
    "plt.title('Top 10 In-Demands Neighborhood\\n', fontsize=20)\n",
    "plt.ylabel('Neighborhood', fontsize=15)\n",
    "plt.xlabel('Count', fontsize=15)\n",
    "plt.grid(linewidth=0.5)"
   ]
  },
  {
   "cell_type": "markdown",
   "id": "9c501f0b",
   "metadata": {},
   "source": [
    "Berdasarkan *plot* di atas, diketahui bahwa wilayah FLUSHING-NORTH adalah `NEIGHBORHOOD` atau wilayah sekitar dengan penjualan terbanyak, diikuti oleh EAST NEW YORK, BEDFORD STUYVESANT, dan lain-lain."
   ]
  },
  {
   "cell_type": "code",
   "execution_count": 63,
   "id": "9bce5211",
   "metadata": {},
   "outputs": [
    {
     "data": {
      "image/png": "[encoded data removed]",
      "text/plain": [
       "<Figure size 864x360 with 1 Axes>"
      ]
     },
     "metadata": {
      "needs_background": "light"
     },
     "output_type": "display_data"
    }
   ],
   "source": [
    "# Membuat dataframe baru berisi kolom NEIGHBORHOOD dan SALE PRICE\n",
    "df_neighborhood = df_sales[['NEIGHBORHOOD','SALE PRICE']]\n",
    "\n",
    "# Grouping\n",
    "df_neighborhood = df_neighborhood.groupby('NEIGHBORHOOD').mean().sort_values(by='SALE PRICE',ascending=False)\n",
    "df_neighborhood = df_neighborhood.head(10)\n",
    "\n",
    "# Visualisasi\n",
    "df_neighborhood = df_neighborhood.sort_values(by='SALE PRICE')\n",
    "df_neighborhood.plot(kind='barh',figsize=(12,5), color='green', alpha=0.5)\n",
    "plt.title('Top 10 Expensive Neighborhood\\n', fontsize=20)\n",
    "plt.ylabel('Neighborhood', fontsize=15)\n",
    "plt.xlabel('Count', fontsize=15)\n",
    "plt.grid(linewidth=0.5)\n",
    "plt.show()"
   ]
  },
  {
   "cell_type": "markdown",
   "id": "72b97372",
   "metadata": {},
   "source": [
    "Berdasarkan *plot* di atas, diketahui bahwa JAVITS CENTER adalah `NEIGHBORHOOD` atau wilayah sekitar dengan rata-rata harga penjualan tertinggi."
   ]
  },
  {
   "cell_type": "markdown",
   "id": "41f03a22",
   "metadata": {},
   "source": [
    "---\n",
    "## Apakah `GROSS SQUARE FEET` dan `LAND SQUARE FEET` mempengaruhi harga penjualan properti (`SALE PRICE`)?"
   ]
  },
  {
   "cell_type": "code",
   "execution_count": 64,
   "id": "ced72ee0",
   "metadata": {},
   "outputs": [
    {
     "data": {
      "text/plain": [
       "Text(0.5, 1.0, 'LAND SQUARE FEET vs SALE PRICE')"
      ]
     },
     "execution_count": 64,
     "metadata": {},
     "output_type": "execute_result"
    },
    {
     "data": {
      "image/png": "[encoded data removed]",
      "text/plain": [
       "<Figure size 864x360 with 2 Axes>"
      ]
     },
     "metadata": {
      "needs_background": "light"
     },
     "output_type": "display_data"
    }
   ],
   "source": [
    "# Membuat dataframe baru berisikan kolom GROSS SQUARE FEET, LAND SQUARE FEET dan SALE PRICE\n",
    "df_sqf_price = df_sales[['GROSS SQUARE FEET', 'LAND SQUARE FEET','SALE PRICE']]\n",
    "'''\n",
    "Ukuran GROSS SQF dan LAND SQF yang lebih besar dari 3000 dan 4000 akan dianggap outlier\n",
    "'''\n",
    "df_gross_price = df_sqf_price[df_sqf_price['GROSS SQUARE FEET'] < 3000]\n",
    "df_land_price = df_sqf_price[df_sqf_price['LAND SQUARE FEET'] < 4000]\n",
    "\n",
    "# Visualisasi menggunakan scatterplot\n",
    "fig = plt.figure(figsize=(12,5))\n",
    "\n",
    "ax0 = fig.add_subplot(1,2,1)\n",
    "ax1 = fig.add_subplot(1,2,2)\n",
    "\n",
    "sns.scatterplot(data=df_gross_price, x='GROSS SQUARE FEET', y='SALE PRICE', ax=ax0)\n",
    "ax0.set_title('GROSS SQUARE FEET vs SALE PRICE')\n",
    "sns.scatterplot(data=df_land_price, x='LAND SQUARE FEET', y='SALE PRICE', ax=ax1)\n",
    "ax1.set_title('LAND SQUARE FEET vs SALE PRICE')"
   ]
  },
  {
   "cell_type": "markdown",
   "id": "e266d73c",
   "metadata": {},
   "source": [
    "Berdasarkan plot di atas, diketahui secara grafis bahwa ukuran luas lahan properti seluruhnya terindikasi mempunyai pengaruh positif, karena semakin besar ukuran luas lahan properti seluruhnya akan diikuti dengan kenaikan harga jual properti tersebut. Sedangkan ukuran luas bangunan properti terindikasi tidak memiliki pengaruh terhadap harga jual properti tersebut."
   ]
  },
  {
   "cell_type": "markdown",
   "id": "58f57448",
   "metadata": {},
   "source": [
    "---\n",
    "## Confidence Interval untuk rata-rata harga penjualan di NYC"
   ]
  },
  {
   "cell_type": "code",
   "execution_count": 66,
   "id": "5402f938",
   "metadata": {},
   "outputs": [
    {
     "name": "stdout",
     "output_type": "stream",
     "text": [
      "[798482.62 813976.07]\n"
     ]
    }
   ],
   "source": [
    "x = df_sales['SALE PRICE']\n",
    "\n",
    "m = x.mean()\n",
    "s = x.std()\n",
    "dof = len(x)-1 #degree of freedom untuk memnentukan nilai statistik uji\n",
    "\n",
    "confidance = 0.95 #Peluang\n",
    "t_crit = np.abs(t.ppf((1-confidance)/2,dof)) #nilai statistik uji t\n",
    "\n",
    "values = np.round((m-s*t_crit/np.sqrt(len(x)), m+s*t_crit/np.sqrt(len(x))),2)\n",
    "\n",
    "print(values)"
   ]
  },
  {
   "cell_type": "markdown",
   "id": "2c2cdab7",
   "metadata": {},
   "source": [
    "Berdasarkan output di atas, diketahui bahwa rata-rata harga penjualan properti di NYC berada di antara 798.482 USD sampai 813.976 USD dengan peluang atau selang kepercayaan 0.95 atau 95%."
   ]
  },
  {
   "cell_type": "markdown",
   "id": "21dac1df",
   "metadata": {},
   "source": [
    "---\n",
    "## Confidence Interval untuk luas lahan properti seluruhnya di NYC"
   ]
  },
  {
   "cell_type": "code",
   "execution_count": 67,
   "id": "fc244c18",
   "metadata": {},
   "outputs": [
    {
     "name": "stdout",
     "output_type": "stream",
     "text": [
      "[2383.68 2988.93]\n"
     ]
    }
   ],
   "source": [
    "x = df_sales['GROSS SQUARE FEET']\n",
    "\n",
    "m = x.mean()\n",
    "s = x.std()\n",
    "dof = len(x)-1 #degree of freedom untuk memnentukan nilai statistik uji\n",
    "\n",
    "confidance = 0.95 #Peluang\n",
    "t_crit = np.abs(t.ppf((1-confidance)/2,dof)) #nilai statistik uji t\n",
    "\n",
    "values = np.round((m-s*t_crit/np.sqrt(len(x)), m+s*t_crit/np.sqrt(len(x))),2)\n",
    "\n",
    "print(values)"
   ]
  },
  {
   "cell_type": "markdown",
   "id": "094f1db8",
   "metadata": {},
   "source": [
    "Berdasarkan output di atas, diketahui bahwa luas lahan properti di NYC memiliki rata-rata sebesar 2383.68 square feet sampai degan 2988.93 square feet dengan rata-rata harga sekitar 800.000 USD."
   ]
  },
  {
   "cell_type": "markdown",
   "id": "f114e99c",
   "metadata": {},
   "source": [
    "---\n",
    "## Hypothesis testing untuk `GROSS SQUARE FEET` dan `SALE PRICE`"
   ]
  },
  {
   "cell_type": "markdown",
   "id": "1570e01a",
   "metadata": {},
   "source": [
    "Sebelumnya telah diketahui bahwa berdasarkan analisis statistik deskriptif, `GROSS SQUARE FEET` atau ukuran luas lahan properti seluruhnya mempengaruhi `SALE PRICE` atau harga penjualan properti tersebut. Maka dari itu, asumsi ini akan dibuktikan apakah `GROSS SQUARE FEET` mempengaruhi `SALE PRICE` menggunakan statistik uji Chi-Square dengan hipotesis sebagai berikut:\n",
    "\n",
    "H0: `GROSS SQUARE FEET` tidak mempengaruhi nilai `SALE PRICE`\n",
    "\n",
    "H1: `GROSS SQUARE FEET` mempengaruhi nilai `SALE PRICE`"
   ]
  },
  {
   "cell_type": "code",
   "execution_count": 68,
   "id": "e46f7d24",
   "metadata": {},
   "outputs": [
    {
     "name": "stdout",
     "output_type": "stream",
     "text": [
      "stat=1859488448.483, p=0.000\n",
      "Probably Dependent\n"
     ]
    }
   ],
   "source": [
    "tbl = [df_sales['GROSS SQUARE FEET'],df_sales['SALE PRICE']]\n",
    "\n",
    "stat, p, dof, expected = chi2_contingency(tbl)\n",
    "\n",
    "print('stat=%.3f, p=%.3f' % (stat,p))\n",
    "\n",
    "if p> 0.05:\n",
    "    print('Probably Independent')\n",
    "else:\n",
    "    print('Probably Dependent')"
   ]
  },
  {
   "cell_type": "markdown",
   "id": "21cd7ac3",
   "metadata": {},
   "source": [
    "Berdasarkan hasil analisis uji Chi-square berikut diketahui bahwa p-value < 0.05 yang berarti H0 ditolak. Sehingga, `GROSS SQUARE FEET` mempengaruhi nilai `SALE PRICE`."
   ]
  },
  {
   "cell_type": "markdown",
   "id": "94ea9c25",
   "metadata": {},
   "source": [
    "---\n",
    "## Hypothesis testing untuk harga penjualan properti di `Bronx` dan `Staten Island`"
   ]
  },
  {
   "cell_type": "markdown",
   "id": "b99e78e3",
   "metadata": {},
   "source": [
    "Berdasarkan analisis sebelumnya (5.2), diketahui bahwa secara grafis wilayah Bronx dan Staten Island tidak memiliki perbedaan distribusi statistik yang signifikan, tidak seperti wilayah Manhattan dan Brooklyn. Sehingga, ini juga memunculkan asumsi apakah rata-rata harga penjualan properti di Bronx dan Staten Island sama atau tidak. Dengan menggunakan uji statistik t, berikut hipotesisnya:\n",
    "\n",
    "H0: Rata-rata harga penjualan di Bronx dan Staten Island sama\n",
    "\n",
    "H1: Rata-rata harga penjualan di Bronx dan Staten Island tidak sama"
   ]
  },
  {
   "cell_type": "code",
   "execution_count": 69,
   "id": "1466780e",
   "metadata": {},
   "outputs": [
    {
     "name": "stdout",
     "output_type": "stream",
     "text": [
      "stat=7.596, p=0.000\n",
      "Probably different distributions\n"
     ]
    },
    {
     "data": {
      "image/png": "[encoded data removed]",
      "text/plain": [
       "<Figure size 864x360 with 2 Axes>"
      ]
     },
     "metadata": {
      "needs_background": "light"
     },
     "output_type": "display_data"
    }
   ],
   "source": [
    "df_sale_price = df_sales[['BOROUGH','SALE PRICE']]\n",
    "df_bronx = df_sale_price[df_sale_price['BOROUGH']=='Bronx'].drop('BOROUGH', axis=1)\n",
    "df_staten = df_sale_price[df_sale_price['BOROUGH']=='Staten Island'].drop('BOROUGH', axis=1)\n",
    "\n",
    "fig = plt.figure(figsize=(12,5))\n",
    "df_bronx.plot(kind='hist', ax=fig.add_subplot(1,2,1))\n",
    "df_staten.plot(kind='hist',ax=fig.add_subplot(1,2,2))\n",
    "\n",
    "stat, p = ttest_ind(df_bronx, df_staten)\n",
    "\n",
    "print('stat=%.3f, p=%.3f' % (stat, p))\n",
    "if p > 0.05:\n",
    "    print('Probably the same distribution')\n",
    "else:\n",
    "    print('Probably different distributions')"
   ]
  },
  {
   "cell_type": "markdown",
   "id": "b4244228",
   "metadata": {},
   "source": [
    "Berdasarkan *output* di atas, diketahui bahwa nilai p-value < 0.05 yang berarti H0 ditolak. Sehingga, rata-rata harga penjualan di Bronx dan Staten Island tidak sama. Berarti wilayah `BOROUGH` mempengaruhi harga penjualan properti."
   ]
  },
  {
   "cell_type": "markdown",
   "id": "0967a136",
   "metadata": {},
   "source": [
    "---\n",
    "## Kesimpulan\n",
    "Berdasarkan analisis statistik deskriptif dan inferensia, didapakan kesimpulan yaitu sebagai berikut:\n",
    "\n",
    "- Rata-rata harga penjualan properti di NYC berkisar di antara 798.482 USD sampai 813.976 USD dengan ukuran luas lahan seluruhnya berkisar di antara 2383.68 square feet sampai degan 2988.93 square feet.\n",
    "- Harga penjualan properti di NYC juga memiliki nilai varians dan standar deviasi yang sangat besar, ini berarti harga penjualan properti di NYC sangat bervariasi.\n",
    "- Wilayah (`BOROUGH`) mempengaruhi harga penjualan properti. Di mana, wilayah Manhattan adalah wilayah dengan rata-rata harga penjualan tertinggi dan memiliki nilai varians tertinggi juga.\n",
    "- Selain wilayah, ukuran luas lahan properti seluruhnya (`GROSS SQUARE FEET`) juga mempengaruhi harga penjualan properti di NYC, di mana berdasarkan informasi secara grafis, semakin besar ukuran luas lahan properti, maka harga jual juga semakin tinggi.\n",
    "- Queens adalah wilayah dengan jumlah penjualan properti paling banyak.\n",
    "- Semakin lama usia properti atau bangunan tersebut, rata-rata harga jual cenderung semakin tinggi.\n",
    "\n",
    "- Kategori **ONE FAMILY DWELLINGS** adalah kategori kelas bangunan dengan jumlah penjualan tertinggi.\n"
   ]
  }
 ],
 "metadata": {
  "hide_input": false,
  "kernelspec": {
   "display_name": "Python 3 (ipykernel)",
   "language": "python",
   "name": "python3"
  },
  "language_info": {
   "codemirror_mode": {
    "name": "ipython",
    "version": 3
   },
   "file_extension": ".py",
   "mimetype": "text/x-python",
   "name": "python",
   "nbconvert_exporter": "python",
   "pygments_lexer": "ipython3",
   "version": "3.9.12"
  }
 },
 "nbformat": 4,
 "nbformat_minor": 5
}
